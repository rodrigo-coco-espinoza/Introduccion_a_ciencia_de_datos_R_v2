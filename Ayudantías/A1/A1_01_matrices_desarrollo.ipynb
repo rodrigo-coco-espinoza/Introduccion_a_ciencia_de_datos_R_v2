{
  "nbformat": 4,
  "nbformat_minor": 0,
  "metadata": {
    "colab": {
      "name": "A1_01_matrices.ipynb",
      "provenance": [],
      "collapsed_sections": [],
      "include_colab_link": true
    },
    "kernelspec": {
      "name": "ir",
      "display_name": "R"
    }
  },
  "cells": [
    {
      "cell_type": "markdown",
      "metadata": {
        "id": "view-in-github",
        "colab_type": "text"
      },
      "source": [
        "<a href=\"https://colab.research.google.com/github/majorquev/Introduccion_a_ciencia_de_datos_R_v2/blob/main/Ayudant%C3%ADas/A1/A1_01_matrices_desarrollo.ipynb\" target=\"_parent\"><img src=\"https://colab.research.google.com/assets/colab-badge.svg\" alt=\"Open In Colab\"/></a>"
      ]
    },
    {
      "cell_type": "markdown",
      "metadata": {
        "collapsed": true,
        "id": "qGvtNqVzSqoX"
      },
      "source": [
        "# **Ayudantía 1**\n",
        "\n",
        "**Ayudante:** Rodrigo Morales Méndez<br>\n",
        "**E-mail ayudante:** rumorale1@gmail.com\n",
        "\n",
        "## **1 Introducción: Matrices**\n",
        "\n",
        "\n",
        "En R, así como en otros lenguajes de programación, una matriz es básicamente un arreglo bi-dimensional, donde las entradas horizontales se entienden como filas y las verticales como columnas (i,j). Es posible imaginar una matriz como un arreglo de vectores como columnas (o filas) del mismo largo.\n",
        "\n",
        " * ¿Qué se guarda en una matriz?<br>\n",
        "    Sólo datos de un mismo tipo. \n",
        "     \n",
        " * ¿Cómo se declara una matriz?<br>\n",
        "    Se puede definir de varias maneras, indicando los elementos que la componen, o combinando vectores como filas o columnas.\n",
        " \n",
        " * ¿Cómo se accede a sus elementos?<br>\n",
        "    Indicando la posición del vector fila, seguido de la posición del vector columna (como es usual)."
      ]
    },
    {
      "cell_type": "code",
      "metadata": {
        "trusted": true,
        "id": "TKVO3cuZSqoY",
        "colab": {
          "base_uri": "https://localhost:8080/",
          "height": 176
        },
        "outputId": "fe4388f7-2c54-44b6-aec7-972d6c00bc72"
      },
      "source": [
        "# 1 Matrices ------------\n",
        "# ?matrix \n",
        "# Creamos un matriz de dos filas y 3 columnas, parametros ncol, nrow y byrow\n",
        "# recibe un vector de elementos\n",
        "\n",
        "M1 <- matrix(1:10, nrow = 2, ncol = 5, byrow = T)\n",
        "#M1\n",
        "\n",
        "M2 <- matrix(c(1:9, \"a\"), nrow = 2, ncol = 5, byrow = T)\n",
        "#M2\n",
        "\n",
        "\n",
        "M3 <- matrix(1:4, nrow = 1, ncol = 4, byrow = T)\n",
        "#M3\n",
        "\n",
        "# 2da forma de crear una matriz\n",
        "M4 <- diag(1:4, nrow = 4, ncol = 4)\n",
        "M4"
      ],
      "execution_count": 8,
      "outputs": [
        {
          "output_type": "display_data",
          "data": {
            "text/plain": [
              "     [,1] [,2] [,3] [,4]\n",
              "[1,] 1    0    0    0   \n",
              "[2,] 0    2    0    0   \n",
              "[3,] 0    0    3    0   \n",
              "[4,] 0    0    0    4   "
            ],
            "text/latex": "A matrix: 4 × 4 of type int\n\\begin{tabular}{llll}\n\t 1 & 0 & 0 & 0\\\\\n\t 0 & 2 & 0 & 0\\\\\n\t 0 & 0 & 3 & 0\\\\\n\t 0 & 0 & 0 & 4\\\\\n\\end{tabular}\n",
            "text/markdown": "\nA matrix: 4 × 4 of type int\n\n| 1 | 0 | 0 | 0 |\n| 0 | 2 | 0 | 0 |\n| 0 | 0 | 3 | 0 |\n| 0 | 0 | 0 | 4 |\n\n",
            "text/html": [
              "<table class=\"dataframe\">\n",
              "<caption>A matrix: 4 × 4 of type int</caption>\n",
              "<tbody>\n",
              "\t<tr><td>1</td><td>0</td><td>0</td><td>0</td></tr>\n",
              "\t<tr><td>0</td><td>2</td><td>0</td><td>0</td></tr>\n",
              "\t<tr><td>0</td><td>0</td><td>3</td><td>0</td></tr>\n",
              "\t<tr><td>0</td><td>0</td><td>0</td><td>4</td></tr>\n",
              "</tbody>\n",
              "</table>\n"
            ]
          },
          "metadata": {}
        }
      ]
    },
    {
      "cell_type": "markdown",
      "metadata": {
        "id": "Z3dxcx5276Zu"
      },
      "source": [
        "Podemos generar una matriz, combinando vectores como filas o columnas. Para ello podemos contar con las funciones rbind() y cbind()\n"
      ]
    },
    {
      "cell_type": "code",
      "metadata": {
        "id": "5qFja8GpWVsV",
        "colab": {
          "base_uri": "https://localhost:8080/",
          "height": 511
        },
        "outputId": "9b6ad9a7-fdc8-48a5-86ca-4d228b103aa6"
      },
      "source": [
        "# rbind\n",
        "# cbind\n",
        "\n",
        "v1 <- seq(2,20, 2)\n",
        "v2 <- seq(1,20, 2)\n",
        "\n",
        "M5 <- rbind(v1, v2)\n",
        "M5\n",
        "\n",
        "M6 <- cbind(v1, v2)\n",
        "M6\n",
        "\n",
        "\n"
      ],
      "execution_count": 12,
      "outputs": [
        {
          "output_type": "display_data",
          "data": {
            "text/plain": [
              "   [,1] [,2] [,3] [,4] [,5] [,6] [,7] [,8] [,9] [,10]\n",
              "v1 2    4    6    8    10   12   14   16   18   20   \n",
              "v2 1    3    5    7     9   11   13   15   17   19   "
            ],
            "text/latex": "A matrix: 2 × 10 of type dbl\n\\begin{tabular}{r|llllllllll}\n\tv1 & 2 & 4 & 6 & 8 & 10 & 12 & 14 & 16 & 18 & 20\\\\\n\tv2 & 1 & 3 & 5 & 7 &  9 & 11 & 13 & 15 & 17 & 19\\\\\n\\end{tabular}\n",
            "text/markdown": "\nA matrix: 2 × 10 of type dbl\n\n| v1 | 2 | 4 | 6 | 8 | 10 | 12 | 14 | 16 | 18 | 20 |\n| v2 | 1 | 3 | 5 | 7 |  9 | 11 | 13 | 15 | 17 | 19 |\n\n",
            "text/html": [
              "<table class=\"dataframe\">\n",
              "<caption>A matrix: 2 × 10 of type dbl</caption>\n",
              "<tbody>\n",
              "\t<tr><th scope=row>v1</th><td>2</td><td>4</td><td>6</td><td>8</td><td>10</td><td>12</td><td>14</td><td>16</td><td>18</td><td>20</td></tr>\n",
              "\t<tr><th scope=row>v2</th><td>1</td><td>3</td><td>5</td><td>7</td><td> 9</td><td>11</td><td>13</td><td>15</td><td>17</td><td>19</td></tr>\n",
              "</tbody>\n",
              "</table>\n"
            ]
          },
          "metadata": {}
        },
        {
          "output_type": "display_data",
          "data": {
            "text/plain": [
              "      v1 v2\n",
              " [1,]  2  1\n",
              " [2,]  4  3\n",
              " [3,]  6  5\n",
              " [4,]  8  7\n",
              " [5,] 10  9\n",
              " [6,] 12 11\n",
              " [7,] 14 13\n",
              " [8,] 16 15\n",
              " [9,] 18 17\n",
              "[10,] 20 19"
            ],
            "text/latex": "A matrix: 10 × 2 of type dbl\n\\begin{tabular}{ll}\n v1 & v2\\\\\n\\hline\n\t  2 &  1\\\\\n\t  4 &  3\\\\\n\t  6 &  5\\\\\n\t  8 &  7\\\\\n\t 10 &  9\\\\\n\t 12 & 11\\\\\n\t 14 & 13\\\\\n\t 16 & 15\\\\\n\t 18 & 17\\\\\n\t 20 & 19\\\\\n\\end{tabular}\n",
            "text/markdown": "\nA matrix: 10 × 2 of type dbl\n\n| v1 | v2 |\n|---|---|\n|  2 |  1 |\n|  4 |  3 |\n|  6 |  5 |\n|  8 |  7 |\n| 10 |  9 |\n| 12 | 11 |\n| 14 | 13 |\n| 16 | 15 |\n| 18 | 17 |\n| 20 | 19 |\n\n",
            "text/html": [
              "<table class=\"dataframe\">\n",
              "<caption>A matrix: 10 × 2 of type dbl</caption>\n",
              "<thead>\n",
              "\t<tr><th scope=col>v1</th><th scope=col>v2</th></tr>\n",
              "</thead>\n",
              "<tbody>\n",
              "\t<tr><td> 2</td><td> 1</td></tr>\n",
              "\t<tr><td> 4</td><td> 3</td></tr>\n",
              "\t<tr><td> 6</td><td> 5</td></tr>\n",
              "\t<tr><td> 8</td><td> 7</td></tr>\n",
              "\t<tr><td>10</td><td> 9</td></tr>\n",
              "\t<tr><td>12</td><td>11</td></tr>\n",
              "\t<tr><td>14</td><td>13</td></tr>\n",
              "\t<tr><td>16</td><td>15</td></tr>\n",
              "\t<tr><td>18</td><td>17</td></tr>\n",
              "\t<tr><td>20</td><td>19</td></tr>\n",
              "</tbody>\n",
              "</table>\n"
            ]
          },
          "metadata": {}
        },
        {
          "output_type": "display_data",
          "data": {
            "text/plain": [
              "[1] 2 4 6"
            ],
            "text/latex": "\\begin{enumerate*}\n\\item 2\n\\item 4\n\\item 6\n\\end{enumerate*}\n",
            "text/markdown": "1. 2\n2. 4\n3. 6\n\n\n",
            "text/html": [
              "<style>\n",
              ".list-inline {list-style: none; margin:0; padding: 0}\n",
              ".list-inline>li {display: inline-block}\n",
              ".list-inline>li:not(:last-child)::after {content: \"\\00b7\"; padding: 0 .5ex}\n",
              "</style>\n",
              "<ol class=list-inline><li>2</li><li>4</li><li>6</li></ol>\n"
            ]
          },
          "metadata": {}
        }
      ]
    },
    {
      "cell_type": "markdown",
      "metadata": {
        "id": "s2Ahk5iK9QZR"
      },
      "source": [
        "## **1.2 Acceso a los elementos de una matriz**\n",
        "En general contamos con opciones de acceso similares a las de un vector, a saber:\n",
        "* Acceso por posición (fila \"i\", columna \"j\")\n",
        "* Acceso por nombre (de fila o columna)\n",
        "* Acceso mediante matriz de indicatrices lógicas\n",
        "\n",
        "### **Acceso por posición**\n",
        "Accedemos mediante `[]`, indicando el número de fila y de columna del dato al que buscamos acceder. Por ejemplo, `M[2,3]` retorna el elemento en posición (2,3), que en nuestro caso es 1.\n",
        "\n",
        "\n",
        "\n",
        "\n",
        "\n"
      ]
    },
    {
      "cell_type": "code",
      "metadata": {
        "trusted": true,
        "id": "xIfUV82ASqot",
        "colab": {
          "base_uri": "https://localhost:8080/",
          "height": 229
        },
        "outputId": "620844c3-2373-4737-da2b-67c996f89076"
      },
      "source": [
        "\n",
        "M6<- matrix(1:9, 3, 3)\n",
        "\n",
        "rownames(M6) <- c(\"r1\", \"r2\", \"r3\")\n",
        "\n",
        "colnames(M6) <- c(\"c1\", \"c2\", \"c3\")\n",
        "\n",
        "M6\n",
        "\n",
        "#M6[\"r2\", \"c2\"]\n",
        "\n",
        "#M6[\"r2\", ]\n",
        "\n",
        "#M6[-1, -3 ]\n",
        "\n",
        "M_L<-diag(T, 3, 3)\n",
        "M_L[1,2] = T\n",
        "#M6[M_L]\n",
        "\n",
        "length(v1)\n",
        "dim(M6)\n",
        "M6[M_L]"
      ],
      "execution_count": 39,
      "outputs": [
        {
          "output_type": "display_data",
          "data": {
            "text/plain": [
              "   c1 c2 c3\n",
              "r1 1  4  7 \n",
              "r2 2  5  8 \n",
              "r3 3  6  9 "
            ],
            "text/latex": "A matrix: 3 × 3 of type int\n\\begin{tabular}{r|lll}\n  & c1 & c2 & c3\\\\\n\\hline\n\tr1 & 1 & 4 & 7\\\\\n\tr2 & 2 & 5 & 8\\\\\n\tr3 & 3 & 6 & 9\\\\\n\\end{tabular}\n",
            "text/markdown": "\nA matrix: 3 × 3 of type int\n\n| <!--/--> | c1 | c2 | c3 |\n|---|---|---|---|\n| r1 | 1 | 4 | 7 |\n| r2 | 2 | 5 | 8 |\n| r3 | 3 | 6 | 9 |\n\n",
            "text/html": [
              "<table class=\"dataframe\">\n",
              "<caption>A matrix: 3 × 3 of type int</caption>\n",
              "<thead>\n",
              "\t<tr><th></th><th scope=col>c1</th><th scope=col>c2</th><th scope=col>c3</th></tr>\n",
              "</thead>\n",
              "<tbody>\n",
              "\t<tr><th scope=row>r1</th><td>1</td><td>4</td><td>7</td></tr>\n",
              "\t<tr><th scope=row>r2</th><td>2</td><td>5</td><td>8</td></tr>\n",
              "\t<tr><th scope=row>r3</th><td>3</td><td>6</td><td>9</td></tr>\n",
              "</tbody>\n",
              "</table>\n"
            ]
          },
          "metadata": {}
        },
        {
          "output_type": "display_data",
          "data": {
            "text/plain": [
              "[1] 10"
            ],
            "text/latex": "10",
            "text/markdown": "10",
            "text/html": [
              "10"
            ]
          },
          "metadata": {}
        },
        {
          "output_type": "display_data",
          "data": {
            "text/plain": [
              "[1] 3 3"
            ],
            "text/latex": "\\begin{enumerate*}\n\\item 3\n\\item 3\n\\end{enumerate*}\n",
            "text/markdown": "1. 3\n2. 3\n\n\n",
            "text/html": [
              "<style>\n",
              ".list-inline {list-style: none; margin:0; padding: 0}\n",
              ".list-inline>li {display: inline-block}\n",
              ".list-inline>li:not(:last-child)::after {content: \"\\00b7\"; padding: 0 .5ex}\n",
              "</style>\n",
              "<ol class=list-inline><li>3</li><li>3</li></ol>\n"
            ]
          },
          "metadata": {}
        },
        {
          "output_type": "display_data",
          "data": {
            "text/plain": [
              "[1] 1 4 5 9"
            ],
            "text/latex": "\\begin{enumerate*}\n\\item 1\n\\item 4\n\\item 5\n\\item 9\n\\end{enumerate*}\n",
            "text/markdown": "1. 1\n2. 4\n3. 5\n4. 9\n\n\n",
            "text/html": [
              "<style>\n",
              ".list-inline {list-style: none; margin:0; padding: 0}\n",
              ".list-inline>li {display: inline-block}\n",
              ".list-inline>li:not(:last-child)::after {content: \"\\00b7\"; padding: 0 .5ex}\n",
              "</style>\n",
              "<ol class=list-inline><li>1</li><li>4</li><li>5</li><li>9</li></ol>\n"
            ]
          },
          "metadata": {}
        }
      ]
    },
    {
      "cell_type": "markdown",
      "metadata": {
        "id": "taLQQrWZ-zye"
      },
      "source": [
        "También podemos rescatar una fila o columna completa, indicando el número de esta en la posición correspondiente. Por ejemplo, `M[2,]` retorna la segunda fila, mientras que `M[,1]` retorna la primera columna.\n",
        "\n",
        "\n",
        "\n",
        "\n"
      ]
    },
    {
      "cell_type": "code",
      "metadata": {
        "trusted": true,
        "id": "0irI-CBJSqou"
      },
      "source": [
        ""
      ],
      "execution_count": null,
      "outputs": []
    },
    {
      "cell_type": "markdown",
      "metadata": {
        "id": "AqZ8bhfrABel"
      },
      "source": [
        "### **Acceso por nombre**\n",
        "Podemos rescatar una fila o columna mediante su nombre. Para ello considermos la misma matriz M con nombres en las filas y columnas.\n",
        "\n",
        "\n",
        "\n",
        "\n",
        "\n",
        "\n",
        "\n"
      ]
    },
    {
      "cell_type": "code",
      "metadata": {
        "trusted": true,
        "id": "m4DDikCTSqo2"
      },
      "source": [
        "# los nombres de las columnas los podemos modificar con la función colnames()\n",
        "colnames(M) <- c(\"c1\",\"c2\",\"c3\",\"c4\")\n",
        "M\n",
        "\n"
      ],
      "execution_count": null,
      "outputs": []
    },
    {
      "cell_type": "markdown",
      "metadata": {
        "id": "R6KUhkiOPcq7"
      },
      "source": [
        "Ahora podemos acceder, por ejemplo, a la fila \"f3\" y a la columna \"c2\", o al elemento en dicha posición.\n"
      ]
    },
    {
      "cell_type": "code",
      "metadata": {
        "id": "R-qL-_NXPpbd"
      },
      "source": [
        "# Fila f3\n"
      ],
      "execution_count": null,
      "outputs": []
    },
    {
      "cell_type": "code",
      "metadata": {
        "id": "Hkxkwv6MPvDA"
      },
      "source": [
        "# Columna c2\n"
      ],
      "execution_count": null,
      "outputs": []
    },
    {
      "cell_type": "code",
      "metadata": {
        "id": "gMCkXTeUP98F"
      },
      "source": [
        "# Elemento de la fila 3 y columna 2\n"
      ],
      "execution_count": null,
      "outputs": []
    },
    {
      "cell_type": "markdown",
      "metadata": {
        "id": "Etf0nXzTRgKh"
      },
      "source": [
        "\n",
        "\n",
        "---\n",
        "# **Taller 1**\n",
        "\n",
        " Para lanzar un nuevo producto al mercado, se le 5 ofrecieron productos distintos a 200 personas. Cada persona indicó si hubiera comprado el producto (1), o no (0).\n",
        "La siguiente matriz contiene las preferencias de los 200 clientes para cada uno de los 5 productos.\n",
        "\n",
        "**NOTA:** Para cargar el archivo \"preferencias.rds\", deben realizarlo a través de la opción \"subir l almacenamiento de sesión\" disponible en la pestaña \"Archivos\" del panel lateral izquierdo.\n",
        "\n",
        "![image.png](data:image/png;base64,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)"
      ]
    },
    {
      "cell_type": "code",
      "metadata": {
        "id": "jUlePP_nRlR2",
        "colab": {
          "base_uri": "https://localhost:8080/",
          "height": 69
        },
        "outputId": "3faffa29-9d81-47e1-e472-e9e60b8c0734"
      },
      "source": [
        "# RDS es un formato nativo de R\n",
        "preferencias <- readRDS(\"preferencias.rds\")\n",
        "\n",
        "#head(preferencias)\n",
        "\n",
        "#tail(preferencias)\n",
        "\n",
        "\n",
        "\n",
        "dim(preferencias)\n",
        "dim(preferencias2)\n",
        "\n",
        "colnames(preferencias) <- c(\"pr1\", \"pr2\", \"pr3\", \"pr4\", \"pr5\")\n",
        "colnames(preferencias)\n",
        "\n",
        "\n",
        "\n"
      ],
      "execution_count": 52,
      "outputs": [
        {
          "output_type": "display_data",
          "data": {
            "text/plain": [
              "[1] 200   5"
            ],
            "text/latex": "\\begin{enumerate*}\n\\item 200\n\\item 5\n\\end{enumerate*}\n",
            "text/markdown": "1. 200\n2. 5\n\n\n",
            "text/html": [
              "<style>\n",
              ".list-inline {list-style: none; margin:0; padding: 0}\n",
              ".list-inline>li {display: inline-block}\n",
              ".list-inline>li:not(:last-child)::after {content: \"\\00b7\"; padding: 0 .5ex}\n",
              "</style>\n",
              "<ol class=list-inline><li>200</li><li>5</li></ol>\n"
            ]
          },
          "metadata": {}
        },
        {
          "output_type": "display_data",
          "data": {
            "text/plain": [
              "[1] 6 5"
            ],
            "text/latex": "\\begin{enumerate*}\n\\item 6\n\\item 5\n\\end{enumerate*}\n",
            "text/markdown": "1. 6\n2. 5\n\n\n",
            "text/html": [
              "<style>\n",
              ".list-inline {list-style: none; margin:0; padding: 0}\n",
              ".list-inline>li {display: inline-block}\n",
              ".list-inline>li:not(:last-child)::after {content: \"\\00b7\"; padding: 0 .5ex}\n",
              "</style>\n",
              "<ol class=list-inline><li>6</li><li>5</li></ol>\n"
            ]
          },
          "metadata": {}
        },
        {
          "output_type": "display_data",
          "data": {
            "text/plain": [
              "[1] \"pr1\" \"pr2\" \"pr3\" \"pr4\" \"pr5\""
            ],
            "text/latex": "\\begin{enumerate*}\n\\item 'pr1'\n\\item 'pr2'\n\\item 'pr3'\n\\item 'pr4'\n\\item 'pr5'\n\\end{enumerate*}\n",
            "text/markdown": "1. 'pr1'\n2. 'pr2'\n3. 'pr3'\n4. 'pr4'\n5. 'pr5'\n\n\n",
            "text/html": [
              "<style>\n",
              ".list-inline {list-style: none; margin:0; padding: 0}\n",
              ".list-inline>li {display: inline-block}\n",
              ".list-inline>li:not(:last-child)::after {content: \"\\00b7\"; padding: 0 .5ex}\n",
              "</style>\n",
              "<ol class=list-inline><li>'pr1'</li><li>'pr2'</li><li>'pr3'</li><li>'pr4'</li><li>'pr5'</li></ol>\n"
            ]
          },
          "metadata": {}
        }
      ]
    },
    {
      "cell_type": "markdown",
      "metadata": {
        "id": "mvpKUKWWSaB2"
      },
      "source": [
        "**P1.1** ¿Por cuáles productos tuvo preferencia el encuestado cuya posición es la 121 en la matriz de preferencias?\n"
      ]
    },
    {
      "cell_type": "code",
      "metadata": {
        "colab": {
          "base_uri": "https://localhost:8080/",
          "height": 183
        },
        "id": "bUrHYhMlTZ05",
        "outputId": "98f98109-c672-4892-cecd-76496018fa7e"
      },
      "source": [
        "preferencias[121, c(\"pr1\", \"pr2\", \"pr3\", \"pr4\", \"pr5\")]\n",
        "preferencias[121, ]\n",
        "\n",
        "M1\n",
        "rowSums(M1)\n",
        "colSums(M1)\n",
        "\n",
        "rowMeans(M1)\n",
        "\n"
      ],
      "execution_count": 57,
      "outputs": [
        {
          "output_type": "display_data",
          "data": {
            "text/plain": [
              "pr1 pr2 pr3 pr4 pr5 \n",
              "  0   1   1   1   1 "
            ],
            "text/latex": "\\begin{description*}\n\\item[pr1] 0\n\\item[pr2] 1\n\\item[pr3] 1\n\\item[pr4] 1\n\\item[pr5] 1\n\\end{description*}\n",
            "text/markdown": "pr1\n:   0pr2\n:   1pr3\n:   1pr4\n:   1pr5\n:   1\n\n",
            "text/html": [
              "<style>\n",
              ".dl-inline {width: auto; margin:0; padding: 0}\n",
              ".dl-inline>dt, .dl-inline>dd {float: none; width: auto; display: inline-block}\n",
              ".dl-inline>dt::after {content: \":\\0020\"; padding-right: .5ex}\n",
              ".dl-inline>dt:not(:first-of-type) {padding-left: .5ex}\n",
              "</style><dl class=dl-inline><dt>pr1</dt><dd>0</dd><dt>pr2</dt><dd>1</dd><dt>pr3</dt><dd>1</dd><dt>pr4</dt><dd>1</dd><dt>pr5</dt><dd>1</dd></dl>\n"
            ]
          },
          "metadata": {}
        },
        {
          "output_type": "display_data",
          "data": {
            "text/plain": [
              "pr1 pr2 pr3 pr4 pr5 \n",
              "  0   1   1   1   1 "
            ],
            "text/latex": "\\begin{description*}\n\\item[pr1] 0\n\\item[pr2] 1\n\\item[pr3] 1\n\\item[pr4] 1\n\\item[pr5] 1\n\\end{description*}\n",
            "text/markdown": "pr1\n:   0pr2\n:   1pr3\n:   1pr4\n:   1pr5\n:   1\n\n",
            "text/html": [
              "<style>\n",
              ".dl-inline {width: auto; margin:0; padding: 0}\n",
              ".dl-inline>dt, .dl-inline>dd {float: none; width: auto; display: inline-block}\n",
              ".dl-inline>dt::after {content: \":\\0020\"; padding-right: .5ex}\n",
              ".dl-inline>dt:not(:first-of-type) {padding-left: .5ex}\n",
              "</style><dl class=dl-inline><dt>pr1</dt><dd>0</dd><dt>pr2</dt><dd>1</dd><dt>pr3</dt><dd>1</dd><dt>pr4</dt><dd>1</dd><dt>pr5</dt><dd>1</dd></dl>\n"
            ]
          },
          "metadata": {}
        },
        {
          "output_type": "display_data",
          "data": {
            "text/plain": [
              "     [,1] [,2] [,3] [,4] [,5]\n",
              "[1,] 1    2    3    4     5  \n",
              "[2,] 6    7    8    9    10  "
            ],
            "text/latex": "A matrix: 2 × 5 of type int\n\\begin{tabular}{lllll}\n\t 1 & 2 & 3 & 4 &  5\\\\\n\t 6 & 7 & 8 & 9 & 10\\\\\n\\end{tabular}\n",
            "text/markdown": "\nA matrix: 2 × 5 of type int\n\n| 1 | 2 | 3 | 4 |  5 |\n| 6 | 7 | 8 | 9 | 10 |\n\n",
            "text/html": [
              "<table class=\"dataframe\">\n",
              "<caption>A matrix: 2 × 5 of type int</caption>\n",
              "<tbody>\n",
              "\t<tr><td>1</td><td>2</td><td>3</td><td>4</td><td> 5</td></tr>\n",
              "\t<tr><td>6</td><td>7</td><td>8</td><td>9</td><td>10</td></tr>\n",
              "</tbody>\n",
              "</table>\n"
            ]
          },
          "metadata": {}
        },
        {
          "output_type": "display_data",
          "data": {
            "text/plain": [
              "[1] 15 40"
            ],
            "text/latex": "\\begin{enumerate*}\n\\item 15\n\\item 40\n\\end{enumerate*}\n",
            "text/markdown": "1. 15\n2. 40\n\n\n",
            "text/html": [
              "<style>\n",
              ".list-inline {list-style: none; margin:0; padding: 0}\n",
              ".list-inline>li {display: inline-block}\n",
              ".list-inline>li:not(:last-child)::after {content: \"\\00b7\"; padding: 0 .5ex}\n",
              "</style>\n",
              "<ol class=list-inline><li>15</li><li>40</li></ol>\n"
            ]
          },
          "metadata": {}
        },
        {
          "output_type": "display_data",
          "data": {
            "text/plain": [
              "[1]  7  9 11 13 15"
            ],
            "text/latex": "\\begin{enumerate*}\n\\item 7\n\\item 9\n\\item 11\n\\item 13\n\\item 15\n\\end{enumerate*}\n",
            "text/markdown": "1. 7\n2. 9\n3. 11\n4. 13\n5. 15\n\n\n",
            "text/html": [
              "<style>\n",
              ".list-inline {list-style: none; margin:0; padding: 0}\n",
              ".list-inline>li {display: inline-block}\n",
              ".list-inline>li:not(:last-child)::after {content: \"\\00b7\"; padding: 0 .5ex}\n",
              "</style>\n",
              "<ol class=list-inline><li>7</li><li>9</li><li>11</li><li>13</li><li>15</li></ol>\n"
            ]
          },
          "metadata": {}
        }
      ]
    },
    {
      "cell_type": "code",
      "metadata": {
        "colab": {
          "base_uri": "https://localhost:8080/",
          "height": 217
        },
        "id": "bbwvA3AMULsK",
        "outputId": "255a103a-bee1-464a-eb8d-5004e8279095"
      },
      "source": [
        "preferencias[121, c(\"pr1\", \"pr2\", \"pr3\", \"pr4\", \"pr5\")]\n",
        "preferencias[121, ]\n",
        "\n",
        "M1\n",
        "\n",
        "rowSums(M1)\n",
        "colSums(M1)\n",
        "\n",
        "rowMeans(M1)\n",
        "colMeans(M1)\n"
      ],
      "execution_count": 58,
      "outputs": [
        {
          "output_type": "display_data",
          "data": {
            "text/plain": [
              "pr1 pr2 pr3 pr4 pr5 \n",
              "  0   1   1   1   1 "
            ],
            "text/latex": "\\begin{description*}\n\\item[pr1] 0\n\\item[pr2] 1\n\\item[pr3] 1\n\\item[pr4] 1\n\\item[pr5] 1\n\\end{description*}\n",
            "text/markdown": "pr1\n:   0pr2\n:   1pr3\n:   1pr4\n:   1pr5\n:   1\n\n",
            "text/html": [
              "<style>\n",
              ".dl-inline {width: auto; margin:0; padding: 0}\n",
              ".dl-inline>dt, .dl-inline>dd {float: none; width: auto; display: inline-block}\n",
              ".dl-inline>dt::after {content: \":\\0020\"; padding-right: .5ex}\n",
              ".dl-inline>dt:not(:first-of-type) {padding-left: .5ex}\n",
              "</style><dl class=dl-inline><dt>pr1</dt><dd>0</dd><dt>pr2</dt><dd>1</dd><dt>pr3</dt><dd>1</dd><dt>pr4</dt><dd>1</dd><dt>pr5</dt><dd>1</dd></dl>\n"
            ]
          },
          "metadata": {}
        },
        {
          "output_type": "display_data",
          "data": {
            "text/plain": [
              "pr1 pr2 pr3 pr4 pr5 \n",
              "  0   1   1   1   1 "
            ],
            "text/latex": "\\begin{description*}\n\\item[pr1] 0\n\\item[pr2] 1\n\\item[pr3] 1\n\\item[pr4] 1\n\\item[pr5] 1\n\\end{description*}\n",
            "text/markdown": "pr1\n:   0pr2\n:   1pr3\n:   1pr4\n:   1pr5\n:   1\n\n",
            "text/html": [
              "<style>\n",
              ".dl-inline {width: auto; margin:0; padding: 0}\n",
              ".dl-inline>dt, .dl-inline>dd {float: none; width: auto; display: inline-block}\n",
              ".dl-inline>dt::after {content: \":\\0020\"; padding-right: .5ex}\n",
              ".dl-inline>dt:not(:first-of-type) {padding-left: .5ex}\n",
              "</style><dl class=dl-inline><dt>pr1</dt><dd>0</dd><dt>pr2</dt><dd>1</dd><dt>pr3</dt><dd>1</dd><dt>pr4</dt><dd>1</dd><dt>pr5</dt><dd>1</dd></dl>\n"
            ]
          },
          "metadata": {}
        },
        {
          "output_type": "display_data",
          "data": {
            "text/plain": [
              "     [,1] [,2] [,3] [,4] [,5]\n",
              "[1,] 1    2    3    4     5  \n",
              "[2,] 6    7    8    9    10  "
            ],
            "text/latex": "A matrix: 2 × 5 of type int\n\\begin{tabular}{lllll}\n\t 1 & 2 & 3 & 4 &  5\\\\\n\t 6 & 7 & 8 & 9 & 10\\\\\n\\end{tabular}\n",
            "text/markdown": "\nA matrix: 2 × 5 of type int\n\n| 1 | 2 | 3 | 4 |  5 |\n| 6 | 7 | 8 | 9 | 10 |\n\n",
            "text/html": [
              "<table class=\"dataframe\">\n",
              "<caption>A matrix: 2 × 5 of type int</caption>\n",
              "<tbody>\n",
              "\t<tr><td>1</td><td>2</td><td>3</td><td>4</td><td> 5</td></tr>\n",
              "\t<tr><td>6</td><td>7</td><td>8</td><td>9</td><td>10</td></tr>\n",
              "</tbody>\n",
              "</table>\n"
            ]
          },
          "metadata": {}
        },
        {
          "output_type": "display_data",
          "data": {
            "text/plain": [
              "[1] 15 40"
            ],
            "text/latex": "\\begin{enumerate*}\n\\item 15\n\\item 40\n\\end{enumerate*}\n",
            "text/markdown": "1. 15\n2. 40\n\n\n",
            "text/html": [
              "<style>\n",
              ".list-inline {list-style: none; margin:0; padding: 0}\n",
              ".list-inline>li {display: inline-block}\n",
              ".list-inline>li:not(:last-child)::after {content: \"\\00b7\"; padding: 0 .5ex}\n",
              "</style>\n",
              "<ol class=list-inline><li>15</li><li>40</li></ol>\n"
            ]
          },
          "metadata": {}
        },
        {
          "output_type": "display_data",
          "data": {
            "text/plain": [
              "[1]  7  9 11 13 15"
            ],
            "text/latex": "\\begin{enumerate*}\n\\item 7\n\\item 9\n\\item 11\n\\item 13\n\\item 15\n\\end{enumerate*}\n",
            "text/markdown": "1. 7\n2. 9\n3. 11\n4. 13\n5. 15\n\n\n",
            "text/html": [
              "<style>\n",
              ".list-inline {list-style: none; margin:0; padding: 0}\n",
              ".list-inline>li {display: inline-block}\n",
              ".list-inline>li:not(:last-child)::after {content: \"\\00b7\"; padding: 0 .5ex}\n",
              "</style>\n",
              "<ol class=list-inline><li>7</li><li>9</li><li>11</li><li>13</li><li>15</li></ol>\n"
            ]
          },
          "metadata": {}
        },
        {
          "output_type": "display_data",
          "data": {
            "text/plain": [
              "[1] 3 8"
            ],
            "text/latex": "\\begin{enumerate*}\n\\item 3\n\\item 8\n\\end{enumerate*}\n",
            "text/markdown": "1. 3\n2. 8\n\n\n",
            "text/html": [
              "<style>\n",
              ".list-inline {list-style: none; margin:0; padding: 0}\n",
              ".list-inline>li {display: inline-block}\n",
              ".list-inline>li:not(:last-child)::after {content: \"\\00b7\"; padding: 0 .5ex}\n",
              "</style>\n",
              "<ol class=list-inline><li>3</li><li>8</li></ol>\n"
            ]
          },
          "metadata": {}
        },
        {
          "output_type": "display_data",
          "data": {
            "text/plain": [
              "[1] 3.5 4.5 5.5 6.5 7.5"
            ],
            "text/latex": "\\begin{enumerate*}\n\\item 3.5\n\\item 4.5\n\\item 5.5\n\\item 6.5\n\\item 7.5\n\\end{enumerate*}\n",
            "text/markdown": "1. 3.5\n2. 4.5\n3. 5.5\n4. 6.5\n5. 7.5\n\n\n",
            "text/html": [
              "<style>\n",
              ".list-inline {list-style: none; margin:0; padding: 0}\n",
              ".list-inline>li {display: inline-block}\n",
              ".list-inline>li:not(:last-child)::after {content: \"\\00b7\"; padding: 0 .5ex}\n",
              "</style>\n",
              "<ol class=list-inline><li>3.5</li><li>4.5</li><li>5.5</li><li>6.5</li><li>7.5</li></ol>\n"
            ]
          },
          "metadata": {}
        }
      ]
    },
    {
      "cell_type": "markdown",
      "metadata": {
        "id": "pmClU2abV6HW"
      },
      "source": [
        "|\n",
        "**P1.2** Genere un vector con el total de preferencias por cada encuestado y añádalo a la matriz de preferencias. (Puede utilizar algunas de las funciones rowSums o colSums si lo desea).\n"
      ]
    },
    {
      "cell_type": "code",
      "metadata": {
        "id": "uOXeSxBIgnT_"
      },
      "source": [
        "total_preferencias <- rowSums(preferencias)\n",
        "# matrix\n",
        "total_preferencias_matriz <- matrix(total_preferencias, ncol = 1)\n",
        "#total_preferencias_matriz#\n",
        "\n",
        "#cbind(preferencias, total_preferencias_matriz )\n",
        "preferencias_con_total <- cbind(preferencias, total_preferencias )"
      ],
      "execution_count": 67,
      "outputs": []
    },
    {
      "cell_type": "markdown",
      "metadata": {
        "id": "-xu9zpDlV6KQ"
      },
      "source": [
        "\n",
        "**P1.3** ¿Cuántos productos en promedio prefirieron los encuestados ?\n"
      ]
    },
    {
      "cell_type": "code",
      "metadata": {
        "id": "Y4zneBaRhXAQ",
        "colab": {
          "base_uri": "https://localhost:8080/",
          "height": 106
        },
        "outputId": "19799e59-fcb6-42d9-9cdb-2b288d01c8ec"
      },
      "source": [
        "mean(preferencias_con_total[, \"total_preferencias\"])\n",
        "\n",
        "median(preferencias_con_total[, \"total_preferencias\"])\n",
        "\n",
        "table(preferencias_con_total[, \"total_preferencias\"])\n",
        "\n"
      ],
      "execution_count": 70,
      "outputs": [
        {
          "output_type": "display_data",
          "data": {
            "text/plain": [
              "[1] 2.385"
            ],
            "text/latex": "2.385",
            "text/markdown": "2.385",
            "text/html": [
              "2.385"
            ]
          },
          "metadata": {}
        },
        {
          "output_type": "display_data",
          "data": {
            "text/plain": [
              "[1] 2"
            ],
            "text/latex": "2",
            "text/markdown": "2",
            "text/html": [
              "2"
            ]
          },
          "metadata": {}
        },
        {
          "output_type": "display_data",
          "data": {
            "text/plain": [
              "\n",
              " 0  1  2  3  4  5 \n",
              " 4 30 77 67 18  4 "
            ]
          },
          "metadata": {}
        }
      ]
    },
    {
      "cell_type": "markdown",
      "metadata": {
        "id": "cLIkOxZdV6M5"
      },
      "source": [
        "\n",
        "**P1.4** En la matriz de preferencias, ¿cuál es la posición  del encuestado que tuvo una mayor cantidad de preferencias?\n"
      ]
    },
    {
      "cell_type": "code",
      "metadata": {
        "colab": {
          "base_uri": "https://localhost:8080/",
          "height": 35
        },
        "id": "PuTT-jzGWPgI",
        "outputId": "db7a5147-50cf-4a7c-e641-d82e072125a2"
      },
      "source": [
        "which.max(preferencias_con_total[, \"total_preferencias\"])"
      ],
      "execution_count": 71,
      "outputs": [
        {
          "output_type": "display_data",
          "data": {
            "text/plain": [
              "[1] 24"
            ],
            "text/latex": "24",
            "text/markdown": "24",
            "text/html": [
              "24"
            ]
          },
          "metadata": {}
        }
      ]
    },
    {
      "cell_type": "markdown",
      "metadata": {
        "id": "3RqMQO67V6PO"
      },
      "source": [
        "\n",
        "**P1.5** Cree un nuevo vector llamado \"cliente_variado\", que contenga un 1 si su cantidad de preferncias fue mayor a 3 y 0 en otro caso.\n"
      ]
    },
    {
      "cell_type": "code",
      "metadata": {
        "colab": {
          "base_uri": "https://localhost:8080/",
          "height": 86
        },
        "id": "7I3cZDPmWfwC",
        "outputId": "b63a4d53-4804-4bb0-8f75-569b0e54d0cc"
      },
      "source": [
        "\n",
        "cliente_variado <- as.numeric(preferencias_con_total[, \"total_preferencias\"] > 3)\n",
        "\n",
        "cliente_variado"
      ],
      "execution_count": 75,
      "outputs": [
        {
          "output_type": "display_data",
          "data": {
            "text/plain": [
              "  [1] 0 1 0 1 0 0 0 0 0 0 0 0 0 0 0 1 0 0 0 1 0 0 0 1 0 0 0 0 0 0 0 0 0 0 0 0 0\n",
              " [38] 0 0 0 1 0 0 0 0 0 0 0 0 1 0 0 1 0 0 0 0 0 0 1 0 0 0 0 1 0 0 0 0 0 1 0 0 0\n",
              " [75] 1 0 0 0 0 0 0 0 0 0 0 0 0 0 0 0 0 0 0 0 1 0 1 0 0 0 0 0 1 0 0 0 0 0 0 0 0\n",
              "[112] 0 0 0 0 1 0 0 0 0 1 0 0 0 0 0 0 0 0 0 0 0 0 0 0 0 0 0 1 0 0 0 0 0 0 0 0 0\n",
              "[149] 0 0 0 0 1 0 0 1 0 0 0 0 0 0 0 0 0 0 0 0 0 0 0 0 1 0 0 0 1 0 0 0 0 0 0 0 0\n",
              "[186] 0 0 0 0 0 0 0 0 0 0 0 0 0 0 0"
            ],
            "text/latex": "\\begin{enumerate*}\n\\item 0\n\\item 1\n\\item 0\n\\item 1\n\\item 0\n\\item 0\n\\item 0\n\\item 0\n\\item 0\n\\item 0\n\\item 0\n\\item 0\n\\item 0\n\\item 0\n\\item 0\n\\item 1\n\\item 0\n\\item 0\n\\item 0\n\\item 1\n\\item 0\n\\item 0\n\\item 0\n\\item 1\n\\item 0\n\\item 0\n\\item 0\n\\item 0\n\\item 0\n\\item 0\n\\item 0\n\\item 0\n\\item 0\n\\item 0\n\\item 0\n\\item 0\n\\item 0\n\\item 0\n\\item 0\n\\item 0\n\\item 1\n\\item 0\n\\item 0\n\\item 0\n\\item 0\n\\item 0\n\\item 0\n\\item 0\n\\item 0\n\\item 1\n\\item 0\n\\item 0\n\\item 1\n\\item 0\n\\item 0\n\\item 0\n\\item 0\n\\item 0\n\\item 0\n\\item 1\n\\item 0\n\\item 0\n\\item 0\n\\item 0\n\\item 1\n\\item 0\n\\item 0\n\\item 0\n\\item 0\n\\item 0\n\\item 1\n\\item 0\n\\item 0\n\\item 0\n\\item 1\n\\item 0\n\\item 0\n\\item 0\n\\item 0\n\\item 0\n\\item 0\n\\item 0\n\\item 0\n\\item 0\n\\item 0\n\\item 0\n\\item 0\n\\item 0\n\\item 0\n\\item 0\n\\item 0\n\\item 0\n\\item 0\n\\item 0\n\\item 1\n\\item 0\n\\item 1\n\\item 0\n\\item 0\n\\item 0\n\\item 0\n\\item 0\n\\item 1\n\\item 0\n\\item 0\n\\item 0\n\\item 0\n\\item 0\n\\item 0\n\\item 0\n\\item 0\n\\item 0\n\\item 0\n\\item 0\n\\item 0\n\\item 1\n\\item 0\n\\item 0\n\\item 0\n\\item 0\n\\item 1\n\\item 0\n\\item 0\n\\item 0\n\\item 0\n\\item 0\n\\item 0\n\\item 0\n\\item 0\n\\item 0\n\\item 0\n\\item 0\n\\item 0\n\\item 0\n\\item 0\n\\item 0\n\\item 0\n\\item 0\n\\item 1\n\\item 0\n\\item 0\n\\item 0\n\\item 0\n\\item 0\n\\item 0\n\\item 0\n\\item 0\n\\item 0\n\\item 0\n\\item 0\n\\item 0\n\\item 0\n\\item 1\n\\item 0\n\\item 0\n\\item 1\n\\item 0\n\\item 0\n\\item 0\n\\item 0\n\\item 0\n\\item 0\n\\item 0\n\\item 0\n\\item 0\n\\item 0\n\\item 0\n\\item 0\n\\item 0\n\\item 0\n\\item 0\n\\item 0\n\\item 1\n\\item 0\n\\item 0\n\\item 0\n\\item 1\n\\item 0\n\\item 0\n\\item 0\n\\item 0\n\\item 0\n\\item 0\n\\item 0\n\\item 0\n\\item 0\n\\item 0\n\\item 0\n\\item 0\n\\item 0\n\\item 0\n\\item 0\n\\item 0\n\\item 0\n\\item 0\n\\item 0\n\\item 0\n\\item 0\n\\item 0\n\\item 0\n\\end{enumerate*}\n",
            "text/markdown": "1. 0\n2. 1\n3. 0\n4. 1\n5. 0\n6. 0\n7. 0\n8. 0\n9. 0\n10. 0\n11. 0\n12. 0\n13. 0\n14. 0\n15. 0\n16. 1\n17. 0\n18. 0\n19. 0\n20. 1\n21. 0\n22. 0\n23. 0\n24. 1\n25. 0\n26. 0\n27. 0\n28. 0\n29. 0\n30. 0\n31. 0\n32. 0\n33. 0\n34. 0\n35. 0\n36. 0\n37. 0\n38. 0\n39. 0\n40. 0\n41. 1\n42. 0\n43. 0\n44. 0\n45. 0\n46. 0\n47. 0\n48. 0\n49. 0\n50. 1\n51. 0\n52. 0\n53. 1\n54. 0\n55. 0\n56. 0\n57. 0\n58. 0\n59. 0\n60. 1\n61. 0\n62. 0\n63. 0\n64. 0\n65. 1\n66. 0\n67. 0\n68. 0\n69. 0\n70. 0\n71. 1\n72. 0\n73. 0\n74. 0\n75. 1\n76. 0\n77. 0\n78. 0\n79. 0\n80. 0\n81. 0\n82. 0\n83. 0\n84. 0\n85. 0\n86. 0\n87. 0\n88. 0\n89. 0\n90. 0\n91. 0\n92. 0\n93. 0\n94. 0\n95. 1\n96. 0\n97. 1\n98. 0\n99. 0\n100. 0\n101. 0\n102. 0\n103. 1\n104. 0\n105. 0\n106. 0\n107. 0\n108. 0\n109. 0\n110. 0\n111. 0\n112. 0\n113. 0\n114. 0\n115. 0\n116. 1\n117. 0\n118. 0\n119. 0\n120. 0\n121. 1\n122. 0\n123. 0\n124. 0\n125. 0\n126. 0\n127. 0\n128. 0\n129. 0\n130. 0\n131. 0\n132. 0\n133. 0\n134. 0\n135. 0\n136. 0\n137. 0\n138. 0\n139. 1\n140. 0\n141. 0\n142. 0\n143. 0\n144. 0\n145. 0\n146. 0\n147. 0\n148. 0\n149. 0\n150. 0\n151. 0\n152. 0\n153. 1\n154. 0\n155. 0\n156. 1\n157. 0\n158. 0\n159. 0\n160. 0\n161. 0\n162. 0\n163. 0\n164. 0\n165. 0\n166. 0\n167. 0\n168. 0\n169. 0\n170. 0\n171. 0\n172. 0\n173. 1\n174. 0\n175. 0\n176. 0\n177. 1\n178. 0\n179. 0\n180. 0\n181. 0\n182. 0\n183. 0\n184. 0\n185. 0\n186. 0\n187. 0\n188. 0\n189. 0\n190. 0\n191. 0\n192. 0\n193. 0\n194. 0\n195. 0\n196. 0\n197. 0\n198. 0\n199. 0\n200. 0\n\n\n",
            "text/html": [
              "<style>\n",
              ".list-inline {list-style: none; margin:0; padding: 0}\n",
              ".list-inline>li {display: inline-block}\n",
              ".list-inline>li:not(:last-child)::after {content: \"\\00b7\"; padding: 0 .5ex}\n",
              "</style>\n",
              "<ol class=list-inline><li>0</li><li>1</li><li>0</li><li>1</li><li>0</li><li>0</li><li>0</li><li>0</li><li>0</li><li>0</li><li>0</li><li>0</li><li>0</li><li>0</li><li>0</li><li>1</li><li>0</li><li>0</li><li>0</li><li>1</li><li>0</li><li>0</li><li>0</li><li>1</li><li>0</li><li>0</li><li>0</li><li>0</li><li>0</li><li>0</li><li>0</li><li>0</li><li>0</li><li>0</li><li>0</li><li>0</li><li>0</li><li>0</li><li>0</li><li>0</li><li>1</li><li>0</li><li>0</li><li>0</li><li>0</li><li>0</li><li>0</li><li>0</li><li>0</li><li>1</li><li>0</li><li>0</li><li>1</li><li>0</li><li>0</li><li>0</li><li>0</li><li>0</li><li>0</li><li>1</li><li>0</li><li>0</li><li>0</li><li>0</li><li>1</li><li>0</li><li>0</li><li>0</li><li>0</li><li>0</li><li>1</li><li>0</li><li>0</li><li>0</li><li>1</li><li>0</li><li>0</li><li>0</li><li>0</li><li>0</li><li>0</li><li>0</li><li>0</li><li>0</li><li>0</li><li>0</li><li>0</li><li>0</li><li>0</li><li>0</li><li>0</li><li>0</li><li>0</li><li>0</li><li>1</li><li>0</li><li>1</li><li>0</li><li>0</li><li>0</li><li>0</li><li>0</li><li>1</li><li>0</li><li>0</li><li>0</li><li>0</li><li>0</li><li>0</li><li>0</li><li>0</li><li>0</li><li>0</li><li>0</li><li>0</li><li>1</li><li>0</li><li>0</li><li>0</li><li>0</li><li>1</li><li>0</li><li>0</li><li>0</li><li>0</li><li>0</li><li>0</li><li>0</li><li>0</li><li>0</li><li>0</li><li>0</li><li>0</li><li>0</li><li>0</li><li>0</li><li>0</li><li>0</li><li>1</li><li>0</li><li>0</li><li>0</li><li>0</li><li>0</li><li>0</li><li>0</li><li>0</li><li>0</li><li>0</li><li>0</li><li>0</li><li>0</li><li>1</li><li>0</li><li>0</li><li>1</li><li>0</li><li>0</li><li>0</li><li>0</li><li>0</li><li>0</li><li>0</li><li>0</li><li>0</li><li>0</li><li>0</li><li>0</li><li>0</li><li>0</li><li>0</li><li>0</li><li>1</li><li>0</li><li>0</li><li>0</li><li>1</li><li>0</li><li>0</li><li>0</li><li>0</li><li>0</li><li>0</li><li>0</li><li>0</li><li>0</li><li>0</li><li>0</li><li>0</li><li>0</li><li>0</li><li>0</li><li>0</li><li>0</li><li>0</li><li>0</li><li>0</li><li>0</li><li>0</li><li>0</li></ol>\n"
            ]
          },
          "metadata": {}
        }
      ]
    },
    {
      "cell_type": "markdown",
      "metadata": {
        "id": "KqTLTrn-V6SD"
      },
      "source": [
        "\n",
        "**P1.6** ¿Cuántos *cliente variados* fueron encuestados en total?\n"
      ]
    },
    {
      "cell_type": "code",
      "metadata": {
        "colab": {
          "base_uri": "https://localhost:8080/",
          "height": 35
        },
        "id": "ozxs4xWbXUvs",
        "outputId": "c942c971-2c87-4b40-b3d9-5c272f8a05ac"
      },
      "source": [
        "sum(cliente_variado)"
      ],
      "execution_count": 76,
      "outputs": [
        {
          "output_type": "display_data",
          "data": {
            "text/plain": [
              "[1] 22"
            ],
            "text/latex": "22",
            "text/markdown": "22",
            "text/html": [
              "22"
            ]
          },
          "metadata": {}
        }
      ]
    },
    {
      "cell_type": "markdown",
      "metadata": {
        "id": "848TLmiHWDGI"
      },
      "source": [
        "\n",
        "**P1.7**  ¿Cuál es el producto con mayor cantidad de preferencias?"
      ]
    },
    {
      "cell_type": "code",
      "metadata": {
        "id": "TvycbLHUW7Uc",
        "colab": {
          "base_uri": "https://localhost:8080/",
          "height": 86
        },
        "outputId": "b431b3a8-0164-47eb-b7ad-10049dea2a2c"
      },
      "source": [
        "aux <- colSums(preferencias)\n",
        "\n",
        "aux\n",
        "\n",
        "which.max(aux)\n",
        "\n",
        "aux[  which.max(aux) ]\n",
        "\n",
        "paste(\"El producto\", which.max(aux), \"es el mas preferido, con\", aux[  which.max(aux) ], \"preferencias\", sep = \" \")\n"
      ],
      "execution_count": 87,
      "outputs": [
        {
          "output_type": "display_data",
          "data": {
            "text/plain": [
              "pr1 pr2 pr3 pr4 pr5 \n",
              " 55  92 139 157  34 "
            ],
            "text/latex": "\\begin{description*}\n\\item[pr1] 55\n\\item[pr2] 92\n\\item[pr3] 139\n\\item[pr4] 157\n\\item[pr5] 34\n\\end{description*}\n",
            "text/markdown": "pr1\n:   55pr2\n:   92pr3\n:   139pr4\n:   157pr5\n:   34\n\n",
            "text/html": [
              "<style>\n",
              ".dl-inline {width: auto; margin:0; padding: 0}\n",
              ".dl-inline>dt, .dl-inline>dd {float: none; width: auto; display: inline-block}\n",
              ".dl-inline>dt::after {content: \":\\0020\"; padding-right: .5ex}\n",
              ".dl-inline>dt:not(:first-of-type) {padding-left: .5ex}\n",
              "</style><dl class=dl-inline><dt>pr1</dt><dd>55</dd><dt>pr2</dt><dd>92</dd><dt>pr3</dt><dd>139</dd><dt>pr4</dt><dd>157</dd><dt>pr5</dt><dd>34</dd></dl>\n"
            ]
          },
          "metadata": {}
        },
        {
          "output_type": "display_data",
          "data": {
            "text/plain": [
              "pr4 \n",
              "  4 "
            ],
            "text/latex": "\\textbf{pr4:} 4",
            "text/markdown": "**pr4:** 4",
            "text/html": [
              "<strong>pr4:</strong> 4"
            ]
          },
          "metadata": {}
        },
        {
          "output_type": "display_data",
          "data": {
            "text/plain": [
              "pr4 \n",
              "157 "
            ],
            "text/latex": "\\textbf{pr4:} 157",
            "text/markdown": "**pr4:** 157",
            "text/html": [
              "<strong>pr4:</strong> 157"
            ]
          },
          "metadata": {}
        },
        {
          "output_type": "display_data",
          "data": {
            "text/plain": [
              "[1] \"El producto 4 es el mas preferido, con 157 preferencias\""
            ],
            "text/latex": "'El producto 4 es el mas preferido, con 157 preferencias'",
            "text/markdown": "'El producto 4 es el mas preferido, con 157 preferencias'",
            "text/html": [
              "'El producto 4 es el mas preferido, con 157 preferencias'"
            ]
          },
          "metadata": {}
        }
      ]
    },
    {
      "cell_type": "markdown",
      "metadata": {
        "id": "bKI40ZZKmDwo"
      },
      "source": [
        "El producto 4 es el más preferido, preferido por 157 personas y el producto menos preferido fue el 5, con 34 personas."
      ]
    }
  ]
}