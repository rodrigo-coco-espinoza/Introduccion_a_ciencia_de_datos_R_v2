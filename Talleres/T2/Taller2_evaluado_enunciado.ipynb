{
  "nbformat": 4,
  "nbformat_minor": 0,
  "metadata": {
    "colab": {
      "name": "Taller2_evaluado_enunciado.ipynb",
      "provenance": [],
      "collapsed_sections": [],
      "include_colab_link": true
    },
    "kernelspec": {
      "name": "ir",
      "display_name": "R"
    }
  },
  "cells": [
    {
      "cell_type": "markdown",
      "metadata": {
        "id": "view-in-github",
        "colab_type": "text"
      },
      "source": [
        "<a href=\"https://colab.research.google.com/github/majorquev/Introduccion_a_ciencia_de_datos_R_v2/blob/main/Talleres/T2/Taller2_evaluado_enunciado.ipynb\" target=\"_parent\"><img src=\"https://colab.research.google.com/assets/colab-badge.svg\" alt=\"Open In Colab\"/></a>"
      ]
    },
    {
      "cell_type": "markdown",
      "metadata": {
        "id": "LKvBS_v2d5tB"
      },
      "source": [
        "# Introducción Ciencia de Datos con R: Taller 2\n",
        "\n",
        "\n",
        "\n",
        "Nombre 1: _Puede incluir su nombre acá haciendo doble click_                                                                                                                                      <br> \n",
        "Nombre 2: _Puede incluir su nombre acá haciendo doble click_   \n",
        "\n",
        "# Instrucciones\n",
        "\n",
        "El siguiente test podrá desarrollarlo de manera individual o en pareja con otro(a) de sus compañeros(as).<br>\n",
        "\n",
        "Lea atentamente cada una de las preguntas propuestas y sea claro en los comentarios (si es que los incluye) de los desarrollos de sus respuestas. Para el desarrollo de las mismas, dispone de celdas de código después de cada pregunta. Sin embargo podrá agregar más celdas si así lo estima conveniente.<br>\n",
        "Las preguntas formuladas en este test pueden ser abordadas con las herramientas trabajadas en clases y ayudantía, sin embargo, usted podrá hacer uso de las funcionalidades y/o packages que estime convenientes, a menos que se indique explícitamente lo contrario.\n",
        "\n",
        "## Tiempo y entrega\n",
        "Dispondrán hasta el día **lunes 18 de octubre** hasta las 23:59 hrs para hacer envío de sus respuestas. Esto debido a temas administrativos para efectos del cierre del curso, por lo que no es posible extender dicha fecha de entrega más allá del plazo mencionado, razón por la cual esta evz la extensión del taller es considerablemente menor que el anterior.\n",
        "\n",
        "Una vez finalizado el desarrollo del taller, deberá entregarlo teniendo en cuenta las siguientes consideraciones :\n",
        "\n",
        " 1. Descargue el notebook en **formato ipynb** (uno por pareja), e indique en el nombre del archivo los nombres de los integrantes, Taller1_nombres_integrantes.ipynb. \n",
        "    En caso de trabajar en Rstudio, deberá enviar el script de extensión *.R con el siguiente nombre: Taller1_nombres_integrantes.R , **procurando indicar con comentarios claros, qué pregunta está respondiendo en cada caso**.\n",
        " * Envíe el archivo al correo rumorale1@gmail.com, con copia a majorquev@gmail.com con el **asunto** \"ICD-SII-T2: 'nombre y apellido de los integrantes' \"\n",
        " \n",
        "**NOTA**: \n",
        "   * Los correos cuyo asunto no comiencen con \"ICD-SII-T2\" no llegarán a destino y por ende no serán calificados.\n",
        "   * Los archivos que no contengan nombre serán calificados con la nota mínima 1.0.\n",
        "   * Los correos enviados posterior a la fecha y hora de entrega indicados tendrán una penalización de 1 punto por día (o fracción) de retraso en la entrega, por ejemplo, si usted envía sus respuestas a las 00:05 hrs del martes 19 de octubre, su nota máxima será un 6.0.\n",
        "   \n",
        "   "
      ]
    },
    {
      "cell_type": "markdown",
      "metadata": {
        "id": "_y7nUaWkesSL"
      },
      "source": [
        "# Seguros médicos\n",
        "El siguiente taller tiene por objetivo comprender distintas variables que inciden en el valor de la prima de un determinado seguro médico. Para ello usted contará con un dataset con la siguiente información:\n",
        "\n",
        "* age: age of primary beneficiary\n",
        "\n",
        "* sex: insurance contractor gender, female, male\n",
        "\n",
        "* bmi: Body mass index, providing an understanding of body, weights that are relatively high or low relative to height,\n",
        "objective index of body weight (kg / m ^ 2) using the ratio of height to weight, ideally 18.5 to 24.9\n",
        "\n",
        "* children: Number of children covered by health insurance / Number of dependents\n",
        "\n",
        "* smoker: Smoking\n",
        "\n",
        "* region: the beneficiary's residential area in the US, northeast, southeast, southwest, northwest.\n",
        "\n",
        "* charges: Individual medical costs billed by health insurance\n",
        "\n",
        "\n",
        "Más info la puede encontrar en el siguiente link https://www.kaggle.com/mirichoi0218/insurance"
      ]
    },
    {
      "cell_type": "code",
      "metadata": {
        "id": "BIr9-rETfgww"
      },
      "source": [
        "## Carga de datos\n",
        "data <- read.csv(\"https://raw.githubusercontent.com/majorquev/Introduccion_a_ciencia_de_datos_R_v2/master/Evaluaciones/Taller1/insurance.csv\")\n"
      ],
      "execution_count": null,
      "outputs": []
    },
    {
      "cell_type": "markdown",
      "metadata": {
        "id": "H4gB7kVwDcv2"
      },
      "source": [
        "**P1)** Con el objetivo de explorar los datos obtenidos y comprender  las relaciones existentes, genere un breve análisis descriptivo del dataset `data`. Para ello considere los siguientes aspectos a incluir, según el tipo de variable a analizar:\n",
        "\n",
        "  * Para el caso de las variables numéricas debe incluir al menos:\n",
        "    1. (1pt) Estadísticos descriptivos como cuantiles, promedios, desviación estándar de **todas** las variables numéricas.\n",
        "    2. (2pts) Uno o varios histogramas.\n",
        "    3. (2pts) Uno o varios boxplots.\n",
        "    4. (2pts) Uno o varios gráficos de dispersión entre dos variables de interés.\n",
        "    5. (2pts) Matriz de correlación y su visualización.\n",
        "    6. (3pts) Un breve análisis de outliers para el caso de la variable `charges` (prima del seguro). Para ello utilice el **criterio del rango intercuartílico** para identificar los casos atípicos. \n",
        "      * Identifique estos casos en el dataset original e **incluya una columna llamada `es_outlier`**, que idique un 1 en caso de ser una obs atípica y un 0 en caso contrario. Esta columna será utilizada más adelante \n",
        "\n",
        "  * Para el caso de las variables categóricas debe incluir al menos:\n",
        "    7. (2pts) Una o varias tablas con los conteos de una o más variables de interés y comentar.\n",
        "    8. (2pts) Uno o varios gráficos de barra para alguna(s) de las categorías de interés.\n",
        "    9. (2pts) Al menos un boxplot de una variable numérica, pero **aperturado por una variable categórica** (ejemplo: `aes(x = sex, y = charges)`)\n"
      ]
    },
    {
      "cell_type": "code",
      "metadata": {
        "id": "FeUdO_rLARSL"
      },
      "source": [
        "# Respuesta\n"
      ],
      "execution_count": null,
      "outputs": []
    },
    {
      "cell_type": "markdown",
      "metadata": {
        "id": "pHMLDmOZFCFy"
      },
      "source": [
        "**P2)** Considerando sólo las variables numéricas, compare los algoritmos **k-means**  y **clustering jerárquico**, para identificar grupos en función de las siguientes variables `age, bmi` y `charges`.\n",
        "\n",
        "**NOTA1:** Para el cluster jerárquico considere como distancia el método **complete**.\n",
        "\n",
        "\n",
        "  1. (4pts) Decida una cantidad de clusters **no menor a 5** y **no mayor a 10** mediante el método del codo para el caso de k-means y mediante el ancho de siluetas para el caso de cluster jerárquico.\n",
        "  2. (2pts) Cree dos nuevas columnas en el dataset, llamadas `cl_km` y `cl_hc`, que contenga el número del cluster al cual fue asignado cada observación, según el algoritmo kmeans y cluster jerárquico respectivamenre.\n",
        "  3. (3pts) Describa **al menos dos** de los grupos generados por ambos algoritmos (por ejemplo, analizando la cantidad de registros por grupo, promedio de edad en cada grupo, promedio de bmi y promedio de charges) y escoja uno de los dos algoritmos.\n",
        "  4. (2pts) Genere un gráfico entre todos los pares de variables numéricas y coloree según el cluster al cual pertenece cada observación, de acuerdo al algoritmo seleccionado por usted.\n",
        "  5. (2pts) Replique el gráfico anterior, pero esta vez coloree según el valor de la variable `es_outlier`, creada en la pregunta **P1.6**.\n",
        "\n",
        "\n",
        "  **NOTA2:** Considere **escalar** los datos antes de implementar los algortimos de clusterización."
      ]
    },
    {
      "cell_type": "code",
      "metadata": {
        "id": "EH5HnwtxFT_r"
      },
      "source": [
        "# Respuesta"
      ],
      "execution_count": null,
      "outputs": []
    },
    {
      "cell_type": "markdown",
      "metadata": {
        "id": "pKXFW0xbX-9m"
      },
      "source": [
        "**P3)** A continuación usted deberá modelar el valor de la prima del seguro (variable charges), mediante un modelo de regresión lineal. Para ello considere como variables predictoras `age, sex, bmi, children, smoker y region`. Excluya como predictores `charges`, `cl_km` y `cl_hc`\n",
        "\n",
        " 1. (2pts) Mediante la función `lm`, implemente un modelo de regresión con todas las variables indicadas en el párrafo anterior, pero **excluya** los registros con primas atípicamente altas, para ello no considere los registros en que el campo `es_outlier` es igual a 1.\n",
        "\n",
        " 2. (2pts) Comente sobre la calidad del ajuste de este modelo. Para ello considere el valor-p asociado al estadístico F del resumen del modelo. ¿Es un modelo pertinente?\n",
        " 3. (2pts) Comente sobre la calidad del ajuste en términos del valor de $R^2$ . ¿Cuánta de la variabilidad real es explicada por este modelo?\n",
        " 4. (3pts) Comente sobre la significancia de las variables incluídas en este modelo. ¿Son todas significativas? Recuerde lo indicado en ayudantía respecto de la interpretación de los coeficientes estimados asociados a una variable categórica en un modelo lineal.\n",
        " 5. (2pts) Teniendo en cuenta el signifiado de los coeficientes de un modelo de regresión lineal ¿cuál es la variable más importante en este modelo al momento de estimar la prima del seguro?\n",
        " 6. (2pts) ¿En cuánto aumenta la prima esperada si una persona tiene un hijo adicional?\n",
        " 7. (2pts) ¿En cuánto varía la prima esperada de un fumador respecto de un no fumador?\n",
        " 8. (3pts) Repita las preguntas desde P4.1 hasta P4.4 pero ahora considerando las obervaciones atípicas y no atípicas. ¿Cambia la calidad del modelo?\n",
        "\n"
      ]
    },
    {
      "cell_type": "code",
      "metadata": {
        "id": "kggFptyqHtKg"
      },
      "source": [
        "## Respuesta -----\n"
      ],
      "execution_count": null,
      "outputs": []
    },
    {
      "cell_type": "markdown",
      "metadata": {
        "id": "GSlE3pnYwTe7"
      },
      "source": [
        "**P3)** En esta segunda etapa usted deberá explorar las variables que inciden en la asignación de la prima del seguro (charges). Para ello explore lo siguiente:\n",
        "\n",
        "**NOTA:** Recuerde que en este caso su variable respuesta es una variable numérica, por tanto los nodos terminales contienen como respuesta el promedio de la prima de todas las observaciones del nodo respectivo.\n",
        "\n",
        "  1. (1pt) Genere un árbol de decisión con el package rpart, que modele como variable respuesta la variable `charges` que indica el perio de la prima del seguro y como variables descriptoras `age, sex,\tbmi,\tchildren,\tsmoker,\tregion`. Considere **los parámetros por defectos para esta pregunta**, no es necesario realizar la poda del árbol (lo veremos en la última sesión).\n",
        "  2. (1pt) Visualice el árbol obtenido utilizando la función `rpart.plot::rpart.plot` (si está en colab) o `visNetwork::visTree` (si está en Rstuio)\n",
        "  3. (2pts) Comente sobre las variables más importantes en función de la visualización generada.¿se condice con lo estudiado en la regresión lineal?\n",
        "  4. (2pts) Describa los segmentos de interés. Por ejemplo ¿qué grupos de la muestra tienen mayores primas?¿Qué grupos de la muestra poseen primas menores?\n",
        "\n",
        "\n",
        "\n"
      ]
    },
    {
      "cell_type": "code",
      "metadata": {
        "id": "NdSpRnaqftXH"
      },
      "source": [
        "## Respuesta"
      ],
      "execution_count": null,
      "outputs": []
    }
  ]
}