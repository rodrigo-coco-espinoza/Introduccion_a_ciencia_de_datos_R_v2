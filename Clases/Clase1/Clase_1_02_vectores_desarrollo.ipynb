{
  "nbformat": 4,
  "nbformat_minor": 0,
  "metadata": {
    "colab": {
      "name": "Clase 1_02_vectores.ipynb",
      "provenance": [],
      "collapsed_sections": [],
      "include_colab_link": true
    },
    "kernelspec": {
      "name": "ir",
      "display_name": "R"
    }
  },
  "cells": [
    {
      "cell_type": "markdown",
      "metadata": {
        "id": "view-in-github",
        "colab_type": "text"
      },
      "source": [
        "<a href=\"https://colab.research.google.com/github/majorquev/Introduccion_a_ciencia_de_datos_R_v2/blob/main/Clases/Clase1/Clase_1_02_vectores_desarrollo.ipynb\" target=\"_parent\"><img src=\"https://colab.research.google.com/assets/colab-badge.svg\" alt=\"Open In Colab\"/></a>"
      ]
    },
    {
      "cell_type": "markdown",
      "metadata": {
        "collapsed": true,
        "id": "Yb2RXjL2Igun"
      },
      "source": [
        "# Parte 1: Introducción a R (continuación)\n",
        "\n",
        "**Autor:** Miguel Jorquera Viguera<br>\n",
        "**E-mail:** majorquev@gmail.com<br>\n",
        "**Ayudante:** Rodrigo Morales Méndez<br>\n",
        "**E-mail ayudante:** rumorale1@gmail.com\n",
        "\n"
      ]
    },
    {
      "cell_type": "markdown",
      "metadata": {
        "id": "d_bHZs66Iguo"
      },
      "source": [
        "## 3. Vectores y matrices\n",
        "\n",
        "### 3.1 Vectores\n",
        "\n",
        "En R, así como en la mayoría de los lenguajes de programación, uno de los objetos más usuales para almacenar información son los vectores, los que corresponden a arreglos unidimensionales que almacenan un mismo tipo de dato en cada una de sus entradas.\n",
        "\n",
        "Todo vector en R se puede declarar con la letra \"c\" seguido de los elementos que lo componen entre paréntesis y separados por comas."
      ]
    },
    {
      "cell_type": "code",
      "metadata": {
        "id": "ljQ0JcsTIgup",
        "outputId": "3be3e2e9-40dc-403e-a955-46ad6fe1a097",
        "colab": {
          "base_uri": "https://localhost:8080/",
          "height": 69
        }
      },
      "source": [
        "# Declaración de dos vectores\n",
        " v1 <- c(1,1,2,3,5,8,13)\n",
        "\n",
        " v2 <- c(1,1,2,3,5,8,13)\n",
        "\n",
        " v3 <- c(1,1,2,3,5,8,13)\n",
        "\n",
        " v4 <- c(v1, v2, v3)\n",
        "\n",
        "v5  <-rep(v1, 3)\n",
        "\n",
        "v5  <-rep(c(1, \"a\"), 300)\n",
        "\n",
        "#rep(x = c(1,2,3), times = 3)\n",
        "\n",
        "#rep(times = 3, x = c(1,2,3))\n",
        "\n",
        "#rep(times = 3, x = c(1,2,3))\n",
        "\n",
        "# Numeros\n",
        "\n",
        "#0.01 0.02 0.03 0.04 0.05\n",
        "from <- 0.02\n",
        "to <- 0.05\n",
        "by <- 0.01\n",
        "#seq(from, to, by)\n",
        "\n",
        "\n",
        "# Fechas\n",
        "from <- as.Date(\"2021-01-01\")\n",
        "to <- as.Date(\"2021-12-31\")\n",
        "by <- \"1 week\"\n",
        "fechas <- seq(from, to, by)\n",
        "\n",
        "\n",
        "fechas[3]\n",
        "\n",
        "fechas[c(1,5,10)]\n",
        "\n",
        "fechas[1:10]"
      ],
      "execution_count": 128,
      "outputs": [
        {
          "output_type": "display_data",
          "data": {
            "text/plain": [
              "[1] \"2021-01-15\""
            ],
            "text/latex": "2021-01-15",
            "text/markdown": "2021-01-15",
            "text/html": [
              "<time datetime=\"2021-01-15\">2021-01-15</time>"
            ]
          },
          "metadata": {}
        },
        {
          "output_type": "display_data",
          "data": {
            "text/plain": [
              "[1] \"2021-01-01\" \"2021-01-29\" \"2021-03-05\""
            ],
            "text/latex": "\\begin{enumerate*}\n\\item 2021-01-01\n\\item 2021-01-29\n\\item 2021-03-05\n\\end{enumerate*}\n",
            "text/markdown": "1. 2021-01-01\n2. 2021-01-29\n3. 2021-03-05\n\n\n",
            "text/html": [
              "<style>\n",
              ".list-inline {list-style: none; margin:0; padding: 0}\n",
              ".list-inline>li {display: inline-block}\n",
              ".list-inline>li:not(:last-child)::after {content: \"\\00b7\"; padding: 0 .5ex}\n",
              "</style>\n",
              "<ol class=list-inline><li><time datetime=\"2021-01-01\">2021-01-01</time></li><li><time datetime=\"2021-01-29\">2021-01-29</time></li><li><time datetime=\"2021-03-05\">2021-03-05</time></li></ol>\n"
            ]
          },
          "metadata": {}
        },
        {
          "output_type": "display_data",
          "data": {
            "text/plain": [
              " [1] \"2021-01-01\" \"2021-01-08\" \"2021-01-15\" \"2021-01-22\" \"2021-01-29\"\n",
              " [6] \"2021-02-05\" \"2021-02-12\" \"2021-02-19\" \"2021-02-26\" \"2021-03-05\""
            ],
            "text/latex": "\\begin{enumerate*}\n\\item 2021-01-01\n\\item 2021-01-08\n\\item 2021-01-15\n\\item 2021-01-22\n\\item 2021-01-29\n\\item 2021-02-05\n\\item 2021-02-12\n\\item 2021-02-19\n\\item 2021-02-26\n\\item 2021-03-05\n\\end{enumerate*}\n",
            "text/markdown": "1. 2021-01-01\n2. 2021-01-08\n3. 2021-01-15\n4. 2021-01-22\n5. 2021-01-29\n6. 2021-02-05\n7. 2021-02-12\n8. 2021-02-19\n9. 2021-02-26\n10. 2021-03-05\n\n\n",
            "text/html": [
              "<style>\n",
              ".list-inline {list-style: none; margin:0; padding: 0}\n",
              ".list-inline>li {display: inline-block}\n",
              ".list-inline>li:not(:last-child)::after {content: \"\\00b7\"; padding: 0 .5ex}\n",
              "</style>\n",
              "<ol class=list-inline><li><time datetime=\"2021-01-01\">2021-01-01</time></li><li><time datetime=\"2021-01-08\">2021-01-08</time></li><li><time datetime=\"2021-01-15\">2021-01-15</time></li><li><time datetime=\"2021-01-22\">2021-01-22</time></li><li><time datetime=\"2021-01-29\">2021-01-29</time></li><li><time datetime=\"2021-02-05\">2021-02-05</time></li><li><time datetime=\"2021-02-12\">2021-02-12</time></li><li><time datetime=\"2021-02-19\">2021-02-19</time></li><li><time datetime=\"2021-02-26\">2021-02-26</time></li><li><time datetime=\"2021-03-05\">2021-03-05</time></li></ol>\n"
            ]
          },
          "metadata": {}
        }
      ]
    },
    {
      "cell_type": "code",
      "metadata": {
        "id": "Rgrk6Q7WBwy7",
        "colab": {
          "base_uri": "https://localhost:8080/",
          "height": 35
        },
        "outputId": "e44ede2d-b666-46b9-ad37-c9ab36b4aa30"
      },
      "source": [
        "v1"
      ],
      "execution_count": null,
      "outputs": [
        {
          "output_type": "display_data",
          "data": {
            "text/plain": [
              "[1]  1  1  2  3  5  8 13"
            ],
            "text/latex": "\\begin{enumerate*}\n\\item 1\n\\item 1\n\\item 2\n\\item 3\n\\item 5\n\\item 8\n\\item 13\n\\end{enumerate*}\n",
            "text/markdown": "1. 1\n2. 1\n3. 2\n4. 3\n5. 5\n6. 8\n7. 13\n\n\n",
            "text/html": [
              "<style>\n",
              ".list-inline {list-style: none; margin:0; padding: 0}\n",
              ".list-inline>li {display: inline-block}\n",
              ".list-inline>li:not(:last-child)::after {content: \"\\00b7\"; padding: 0 .5ex}\n",
              "</style>\n",
              "<ol class=list-inline><li>1</li><li>1</li><li>2</li><li>3</li><li>5</li><li>8</li><li>13</li></ol>\n"
            ]
          },
          "metadata": {}
        }
      ]
    },
    {
      "cell_type": "code",
      "metadata": {
        "id": "GxHhDdS4Iguy",
        "colab": {
          "base_uri": "https://localhost:8080/",
          "height": 52
        },
        "outputId": "68c91b55-6426-4b74-e7b5-454d132df5da"
      },
      "source": [
        "# clase y tipo de dato\n",
        "class(v1)\n",
        "typeof(v1)"
      ],
      "execution_count": null,
      "outputs": [
        {
          "output_type": "display_data",
          "data": {
            "text/plain": [
              "[1] \"numeric\""
            ],
            "text/latex": "'numeric'",
            "text/markdown": "'numeric'",
            "text/html": [
              "'numeric'"
            ]
          },
          "metadata": {}
        },
        {
          "output_type": "display_data",
          "data": {
            "text/plain": [
              "[1] \"double\""
            ],
            "text/latex": "'double'",
            "text/markdown": "'double'",
            "text/html": [
              "'double'"
            ]
          },
          "metadata": {}
        }
      ]
    },
    {
      "cell_type": "code",
      "metadata": {
        "id": "orJ4pjhUHFLR",
        "colab": {
          "base_uri": "https://localhost:8080/",
          "height": 52
        },
        "outputId": "d6f23803-d860-44d5-fd9e-88f302170796"
      },
      "source": [
        "# Largo de un vector\n",
        "length(v1)\n",
        "length(vp)"
      ],
      "execution_count": null,
      "outputs": [
        {
          "output_type": "display_data",
          "data": {
            "text/plain": [
              "[1] 7"
            ],
            "text/latex": "7",
            "text/markdown": "7",
            "text/html": [
              "7"
            ]
          },
          "metadata": {}
        },
        {
          "output_type": "display_data",
          "data": {
            "text/plain": [
              "[1] 3"
            ],
            "text/latex": "3",
            "text/markdown": "3",
            "text/html": [
              "3"
            ]
          },
          "metadata": {}
        }
      ]
    },
    {
      "cell_type": "code",
      "metadata": {
        "id": "FUBvbIN9Igu4",
        "colab": {
          "base_uri": "https://localhost:8080/",
          "height": 35
        },
        "outputId": "000f5ae6-6cd5-4837-c51f-c1899d221977"
      },
      "source": [
        "# vectores lógicos\n",
        "vl <- c(TRUE, T, F, F,T)\n",
        "vl"
      ],
      "execution_count": null,
      "outputs": [
        {
          "output_type": "display_data",
          "data": {
            "text/plain": [
              "[1]  TRUE  TRUE FALSE FALSE  TRUE"
            ],
            "text/latex": "\\begin{enumerate*}\n\\item TRUE\n\\item TRUE\n\\item FALSE\n\\item FALSE\n\\item TRUE\n\\end{enumerate*}\n",
            "text/markdown": "1. TRUE\n2. TRUE\n3. FALSE\n4. FALSE\n5. TRUE\n\n\n",
            "text/html": [
              "<style>\n",
              ".list-inline {list-style: none; margin:0; padding: 0}\n",
              ".list-inline>li {display: inline-block}\n",
              ".list-inline>li:not(:last-child)::after {content: \"\\00b7\"; padding: 0 .5ex}\n",
              "</style>\n",
              "<ol class=list-inline><li>TRUE</li><li>TRUE</li><li>FALSE</li><li>FALSE</li><li>TRUE</li></ol>\n"
            ]
          },
          "metadata": {}
        }
      ]
    },
    {
      "cell_type": "code",
      "metadata": {
        "id": "qN5seLKUCm4I",
        "colab": {
          "base_uri": "https://localhost:8080/",
          "height": 35
        },
        "outputId": "c6b314fd-8d11-41e2-9d9d-6b3886c7d2d5"
      },
      "source": [
        "# vector con strings\n",
        "vp <- c(\"hola\", \"soy\", \"miguel\")\n",
        "vp"
      ],
      "execution_count": null,
      "outputs": [
        {
          "output_type": "display_data",
          "data": {
            "text/plain": [
              "[1] \"hola\"   \"soy\"    \"miguel\""
            ],
            "text/latex": "\\begin{enumerate*}\n\\item 'hola'\n\\item 'soy'\n\\item 'miguel'\n\\end{enumerate*}\n",
            "text/markdown": "1. 'hola'\n2. 'soy'\n3. 'miguel'\n\n\n",
            "text/html": [
              "<style>\n",
              ".list-inline {list-style: none; margin:0; padding: 0}\n",
              ".list-inline>li {display: inline-block}\n",
              ".list-inline>li:not(:last-child)::after {content: \"\\00b7\"; padding: 0 .5ex}\n",
              "</style>\n",
              "<ol class=list-inline><li>'hola'</li><li>'soy'</li><li>'miguel'</li></ol>\n"
            ]
          },
          "metadata": {}
        }
      ]
    },
    {
      "cell_type": "code",
      "metadata": {
        "id": "R88mjniaIgu_",
        "colab": {
          "base_uri": "https://localhost:8080/",
          "height": 53
        },
        "outputId": "fbb5a5f1-5391-4a96-e46b-5bac0516f5ac"
      },
      "source": [
        "# Nombres de las entradas de un vector\n",
        "v1\n",
        "names(v1)\n"
      ],
      "execution_count": null,
      "outputs": [
        {
          "output_type": "display_data",
          "data": {
            "text/plain": [
              "[1]  1  1  2  3  5  8 13"
            ],
            "text/latex": "\\begin{enumerate*}\n\\item 1\n\\item 1\n\\item 2\n\\item 3\n\\item 5\n\\item 8\n\\item 13\n\\end{enumerate*}\n",
            "text/markdown": "1. 1\n2. 1\n3. 2\n4. 3\n5. 5\n6. 8\n7. 13\n\n\n",
            "text/html": [
              "<style>\n",
              ".list-inline {list-style: none; margin:0; padding: 0}\n",
              ".list-inline>li {display: inline-block}\n",
              ".list-inline>li:not(:last-child)::after {content: \"\\00b7\"; padding: 0 .5ex}\n",
              "</style>\n",
              "<ol class=list-inline><li>1</li><li>1</li><li>2</li><li>3</li><li>5</li><li>8</li><li>13</li></ol>\n"
            ]
          },
          "metadata": {}
        },
        {
          "output_type": "display_data",
          "data": {
            "text/plain": [
              "NULL"
            ]
          },
          "metadata": {}
        }
      ]
    },
    {
      "cell_type": "code",
      "metadata": {
        "id": "OAhPpN3vIgvB"
      },
      "source": [
        "# podemos asignar los nombres a vector 1\n",
        "names(v1) <- c(\"e1\",\"e2\",\"e3\",\"e4\",\"e5\",\"e6\",\"e7\")"
      ],
      "execution_count": null,
      "outputs": []
    },
    {
      "cell_type": "code",
      "metadata": {
        "id": "lyCVGBYZDD4R",
        "colab": {
          "base_uri": "https://localhost:8080/",
          "height": 35
        },
        "outputId": "d7d296c7-4f29-4f4c-b085-be0a54d929a1"
      },
      "source": [
        "v1"
      ],
      "execution_count": null,
      "outputs": [
        {
          "output_type": "display_data",
          "data": {
            "text/plain": [
              "e1 e2 e3 e4 e5 e6 e7 \n",
              " 1  1  2  3  5  8 13 "
            ],
            "text/latex": "\\begin{description*}\n\\item[e1] 1\n\\item[e2] 1\n\\item[e3] 2\n\\item[e4] 3\n\\item[e5] 5\n\\item[e6] 8\n\\item[e7] 13\n\\end{description*}\n",
            "text/markdown": "e1\n:   1e2\n:   1e3\n:   2e4\n:   3e5\n:   5e6\n:   8e7\n:   13\n\n",
            "text/html": [
              "<style>\n",
              ".dl-inline {width: auto; margin:0; padding: 0}\n",
              ".dl-inline>dt, .dl-inline>dd {float: none; width: auto; display: inline-block}\n",
              ".dl-inline>dt::after {content: \":\\0020\"; padding-right: .5ex}\n",
              ".dl-inline>dt:not(:first-of-type) {padding-left: .5ex}\n",
              "</style><dl class=dl-inline><dt>e1</dt><dd>1</dd><dt>e2</dt><dd>1</dd><dt>e3</dt><dd>2</dd><dt>e4</dt><dd>3</dd><dt>e5</dt><dd>5</dd><dt>e6</dt><dd>8</dd><dt>e7</dt><dd>13</dd></dl>\n"
            ]
          },
          "metadata": {}
        }
      ]
    },
    {
      "cell_type": "code",
      "metadata": {
        "id": "E6dxkyP5IgvF",
        "colab": {
          "base_uri": "https://localhost:8080/",
          "height": 35
        },
        "outputId": "cd2fb875-fb7e-4bf0-c9fc-0484b2dcfa4a"
      },
      "source": [
        "# nombres de las entradas con la función, names()\n",
        "names(v1)"
      ],
      "execution_count": null,
      "outputs": [
        {
          "output_type": "display_data",
          "data": {
            "text/plain": [
              "[1] \"e1\" \"e2\" \"e3\" \"e4\" \"e5\" \"e6\" \"e7\""
            ],
            "text/latex": "\\begin{enumerate*}\n\\item 'e1'\n\\item 'e2'\n\\item 'e3'\n\\item 'e4'\n\\item 'e5'\n\\item 'e6'\n\\item 'e7'\n\\end{enumerate*}\n",
            "text/markdown": "1. 'e1'\n2. 'e2'\n3. 'e3'\n4. 'e4'\n5. 'e5'\n6. 'e6'\n7. 'e7'\n\n\n",
            "text/html": [
              "<style>\n",
              ".list-inline {list-style: none; margin:0; padding: 0}\n",
              ".list-inline>li {display: inline-block}\n",
              ".list-inline>li:not(:last-child)::after {content: \"\\00b7\"; padding: 0 .5ex}\n",
              "</style>\n",
              "<ol class=list-inline><li>'e1'</li><li>'e2'</li><li>'e3'</li><li>'e4'</li><li>'e5'</li><li>'e6'</li><li>'e7'</li></ol>\n"
            ]
          },
          "metadata": {}
        }
      ]
    },
    {
      "cell_type": "code",
      "metadata": {
        "id": "7Ayre5BlIgvH"
      },
      "source": [
        "#combinar vectores\n"
      ],
      "execution_count": null,
      "outputs": []
    },
    {
      "cell_type": "code",
      "metadata": {
        "id": "QETBghXxIgvI",
        "colab": {
          "base_uri": "https://localhost:8080/",
          "height": 35
        },
        "outputId": "13ccf962-e00e-45c2-d1b9-f32d46e04bad"
      },
      "source": [
        "v2 <- c(100,200)\n",
        "# c : es una abreviación de \"combine\"\n",
        "c(v1,v2)"
      ],
      "execution_count": null,
      "outputs": [
        {
          "output_type": "display_data",
          "data": {
            "text/plain": [
              " e1  e2  e3  e4  e5  e6  e7         \n",
              "  1   1   2   3   5   8  13 100 200 "
            ],
            "text/latex": "\\begin{description*}\n\\item[e1] 1\n\\item[e2] 1\n\\item[e3] 2\n\\item[e4] 3\n\\item[e5] 5\n\\item[e6] 8\n\\item[e7] 13\n\\item[8] 100\n\\item[9] 200\n\\end{description*}\n",
            "text/markdown": "e1\n:   1e2\n:   1e3\n:   2e4\n:   3e5\n:   5e6\n:   8e7\n:   138\n:   1009\n:   200\n\n",
            "text/html": [
              "<style>\n",
              ".dl-inline {width: auto; margin:0; padding: 0}\n",
              ".dl-inline>dt, .dl-inline>dd {float: none; width: auto; display: inline-block}\n",
              ".dl-inline>dt::after {content: \":\\0020\"; padding-right: .5ex}\n",
              ".dl-inline>dt:not(:first-of-type) {padding-left: .5ex}\n",
              "</style><dl class=dl-inline><dt>e1</dt><dd>1</dd><dt>e2</dt><dd>1</dd><dt>e3</dt><dd>2</dd><dt>e4</dt><dd>3</dd><dt>e5</dt><dd>5</dd><dt>e6</dt><dd>8</dd><dt>e7</dt><dd>13</dd><dt>8</dt><dd>100</dd><dt>9</dt><dd>200</dd></dl>\n"
            ]
          },
          "metadata": {}
        }
      ]
    },
    {
      "cell_type": "markdown",
      "metadata": {
        "id": "MX35j24_IgvN"
      },
      "source": [
        "#### 3.1.1 Acceso a los elementos de un vector\n",
        "\n",
        "El acceso a los elementos de un vector se puede llevar acabo indicando la posición del elemento (los naturales parten en 1!), el nombre de la casilla que lo contiene, o bien mediante sentencias lógicas que retornen \"TRUE\" en la posición deseada.\n",
        "\n"
      ]
    },
    {
      "cell_type": "code",
      "metadata": {
        "id": "zW2_TzKxIgvN",
        "colab": {
          "base_uri": "https://localhost:8080/",
          "height": 52
        },
        "outputId": "6b88314d-0ad6-4547-d5f2-ea1d9122a90b"
      },
      "source": [
        "# Mediante posición\n",
        "vp\n",
        "vp[2] # Rescatamos el elemento de posición 2"
      ],
      "execution_count": null,
      "outputs": [
        {
          "output_type": "display_data",
          "data": {
            "text/plain": [
              "[1] \"hola\"   \"soy\"    \"miguel\""
            ],
            "text/latex": "\\begin{enumerate*}\n\\item 'hola'\n\\item 'soy'\n\\item 'miguel'\n\\end{enumerate*}\n",
            "text/markdown": "1. 'hola'\n2. 'soy'\n3. 'miguel'\n\n\n",
            "text/html": [
              "<style>\n",
              ".list-inline {list-style: none; margin:0; padding: 0}\n",
              ".list-inline>li {display: inline-block}\n",
              ".list-inline>li:not(:last-child)::after {content: \"\\00b7\"; padding: 0 .5ex}\n",
              "</style>\n",
              "<ol class=list-inline><li>'hola'</li><li>'soy'</li><li>'miguel'</li></ol>\n"
            ]
          },
          "metadata": {}
        },
        {
          "output_type": "display_data",
          "data": {
            "text/plain": [
              "[1] \"soy\""
            ],
            "text/latex": "'soy'",
            "text/markdown": "'soy'",
            "text/html": [
              "'soy'"
            ]
          },
          "metadata": {}
        }
      ]
    },
    {
      "cell_type": "code",
      "metadata": {
        "id": "XWL1ZIyMIgvR",
        "colab": {
          "base_uri": "https://localhost:8080/",
          "height": 52
        },
        "outputId": "883cbecb-b455-4019-8abd-d1375901c31b"
      },
      "source": [
        "# retorna los elementos de las casillas 1  y 3 de vp\n",
        "vp[c(1,3)]\n"
      ],
      "execution_count": null,
      "outputs": [
        {
          "output_type": "display_data",
          "data": {
            "text/plain": [
              "[1] \"hola\"   \"miguel\""
            ],
            "text/latex": "\\begin{enumerate*}\n\\item 'hola'\n\\item 'miguel'\n\\end{enumerate*}\n",
            "text/markdown": "1. 'hola'\n2. 'miguel'\n\n\n",
            "text/html": [
              "<style>\n",
              ".list-inline {list-style: none; margin:0; padding: 0}\n",
              ".list-inline>li {display: inline-block}\n",
              ".list-inline>li:not(:last-child)::after {content: \"\\00b7\"; padding: 0 .5ex}\n",
              "</style>\n",
              "<ol class=list-inline><li>'hola'</li><li>'miguel'</li></ol>\n"
            ]
          },
          "metadata": {}
        },
        {
          "output_type": "display_data",
          "data": {
            "text/plain": [
              "[1] \"hola\"   \"miguel\""
            ],
            "text/latex": "\\begin{enumerate*}\n\\item 'hola'\n\\item 'miguel'\n\\end{enumerate*}\n",
            "text/markdown": "1. 'hola'\n2. 'miguel'\n\n\n",
            "text/html": [
              "<style>\n",
              ".list-inline {list-style: none; margin:0; padding: 0}\n",
              ".list-inline>li {display: inline-block}\n",
              ".list-inline>li:not(:last-child)::after {content: \"\\00b7\"; padding: 0 .5ex}\n",
              "</style>\n",
              "<ol class=list-inline><li>'hola'</li><li>'miguel'</li></ol>\n"
            ]
          },
          "metadata": {}
        }
      ]
    },
    {
      "cell_type": "code",
      "metadata": {
        "id": "4MJ6OVRHETIm",
        "colab": {
          "base_uri": "https://localhost:8080/",
          "height": 35
        },
        "outputId": "f470cf3b-6883-4e9b-dcd4-d5283c413e09"
      },
      "source": [
        "vp[2-3]# Opción no oficial"
      ],
      "execution_count": null,
      "outputs": [
        {
          "output_type": "display_data",
          "data": {
            "text/plain": [
              "[1] \"hola\"   \"miguel\""
            ],
            "text/latex": "\\begin{enumerate*}\n\\item 'hola'\n\\item 'miguel'\n\\end{enumerate*}\n",
            "text/markdown": "1. 'hola'\n2. 'miguel'\n\n\n",
            "text/html": [
              "<style>\n",
              ".list-inline {list-style: none; margin:0; padding: 0}\n",
              ".list-inline>li {display: inline-block}\n",
              ".list-inline>li:not(:last-child)::after {content: \"\\00b7\"; padding: 0 .5ex}\n",
              "</style>\n",
              "<ol class=list-inline><li>'hola'</li><li>'miguel'</li></ol>\n"
            ]
          },
          "metadata": {}
        }
      ]
    },
    {
      "cell_type": "code",
      "metadata": {
        "id": "cVzhj4ASIgvb",
        "outputId": "01ccddae-0af7-4a24-d797-961269e2d73b",
        "colab": {
          "base_uri": "https://localhost:8080/",
          "height": 52
        }
      },
      "source": [
        "# podemos cambiar uno de los nombres (ej, queremos cambiar el séptimo nombre de v1)\n",
        "\n",
        "v_pares <- seq(from = 2, to = 40, by = 2  )\n",
        "\n",
        "v_pares <- seq(from = 2,   by = 2, length.out = 20  )\n",
        "\n",
        "#names(v_pares) <- c(\"n1\", \"n2\", \"n3\", \"n4\")\n",
        "\n",
        "# paste \n",
        "\n",
        "names(v_pares) <- paste(\"n\", 1:20, sep = \"\")\n",
        "\n",
        "v_pares"
      ],
      "execution_count": 142,
      "outputs": [
        {
          "output_type": "display_data",
          "data": {
            "text/plain": [
              " n1  n2  n3  n4  n5  n6  n7  n8  n9 n10 n11 n12 n13 n14 n15 n16 n17 n18 n19 n20 \n",
              "  2   4   6   8  10  12  14  16  18  20  22  24  26  28  30  32  34  36  38  40 "
            ],
            "text/latex": "\\begin{description*}\n\\item[n1] 2\n\\item[n2] 4\n\\item[n3] 6\n\\item[n4] 8\n\\item[n5] 10\n\\item[n6] 12\n\\item[n7] 14\n\\item[n8] 16\n\\item[n9] 18\n\\item[n10] 20\n\\item[n11] 22\n\\item[n12] 24\n\\item[n13] 26\n\\item[n14] 28\n\\item[n15] 30\n\\item[n16] 32\n\\item[n17] 34\n\\item[n18] 36\n\\item[n19] 38\n\\item[n20] 40\n\\end{description*}\n",
            "text/markdown": "n1\n:   2n2\n:   4n3\n:   6n4\n:   8n5\n:   10n6\n:   12n7\n:   14n8\n:   16n9\n:   18n10\n:   20n11\n:   22n12\n:   24n13\n:   26n14\n:   28n15\n:   30n16\n:   32n17\n:   34n18\n:   36n19\n:   38n20\n:   40\n\n",
            "text/html": [
              "<style>\n",
              ".dl-inline {width: auto; margin:0; padding: 0}\n",
              ".dl-inline>dt, .dl-inline>dd {float: none; width: auto; display: inline-block}\n",
              ".dl-inline>dt::after {content: \":\\0020\"; padding-right: .5ex}\n",
              ".dl-inline>dt:not(:first-of-type) {padding-left: .5ex}\n",
              "</style><dl class=dl-inline><dt>n1</dt><dd>2</dd><dt>n2</dt><dd>4</dd><dt>n3</dt><dd>6</dd><dt>n4</dt><dd>8</dd><dt>n5</dt><dd>10</dd><dt>n6</dt><dd>12</dd><dt>n7</dt><dd>14</dd><dt>n8</dt><dd>16</dd><dt>n9</dt><dd>18</dd><dt>n10</dt><dd>20</dd><dt>n11</dt><dd>22</dd><dt>n12</dt><dd>24</dd><dt>n13</dt><dd>26</dd><dt>n14</dt><dd>28</dd><dt>n15</dt><dd>30</dd><dt>n16</dt><dd>32</dd><dt>n17</dt><dd>34</dd><dt>n18</dt><dd>36</dd><dt>n19</dt><dd>38</dd><dt>n20</dt><dd>40</dd></dl>\n"
            ]
          },
          "metadata": {}
        }
      ]
    },
    {
      "cell_type": "code",
      "metadata": {
        "id": "HWaI6tVAGFIc",
        "colab": {
          "base_uri": "https://localhost:8080/",
          "height": 35
        },
        "outputId": "4c7a16c0-93c3-477a-b71c-87218184d2f8"
      },
      "source": [
        "v1"
      ],
      "execution_count": null,
      "outputs": [
        {
          "output_type": "display_data",
          "data": {
            "text/plain": [
              "           e1            e2            e3            e4            e5 \n",
              "            1             1             2             3             5 \n",
              "           e6 nuevo_nombre7 \n",
              "            8            99 "
            ],
            "text/latex": "\\begin{description*}\n\\item[e1] 1\n\\item[e2] 1\n\\item[e3] 2\n\\item[e4] 3\n\\item[e5] 5\n\\item[e6] 8\n\\item[nuevo\\textbackslash{}\\_nombre7] 99\n\\end{description*}\n",
            "text/markdown": "e1\n:   1e2\n:   1e3\n:   2e4\n:   3e5\n:   5e6\n:   8nuevo_nombre7\n:   99\n\n",
            "text/html": [
              "<style>\n",
              ".dl-inline {width: auto; margin:0; padding: 0}\n",
              ".dl-inline>dt, .dl-inline>dd {float: none; width: auto; display: inline-block}\n",
              ".dl-inline>dt::after {content: \":\\0020\"; padding-right: .5ex}\n",
              ".dl-inline>dt:not(:first-of-type) {padding-left: .5ex}\n",
              "</style><dl class=dl-inline><dt>e1</dt><dd>1</dd><dt>e2</dt><dd>1</dd><dt>e3</dt><dd>2</dd><dt>e4</dt><dd>3</dd><dt>e5</dt><dd>5</dd><dt>e6</dt><dd>8</dd><dt>nuevo_nombre7</dt><dd>99</dd></dl>\n"
            ]
          },
          "metadata": {}
        }
      ]
    },
    {
      "cell_type": "code",
      "metadata": {
        "id": "b6oqx_D4Igvd"
      },
      "source": [
        "# podemos modificar varias posiciones a la vez\n",
        "# queremos re-asignar los valores 555 y 666 en las posiciones 3 y 7 respecivamente\n",
        "\n",
        "v_pares[1:3] <- 1:3\n",
        "\n",
        "v_pares[1:3] <- c(2, 4,  6)"
      ],
      "execution_count": 149,
      "outputs": []
    },
    {
      "cell_type": "code",
      "metadata": {
        "id": "mqfTYa4dGViZ",
        "colab": {
          "base_uri": "https://localhost:8080/",
          "height": 35
        },
        "outputId": "5758f802-4c36-44a6-b937-62b3843d084e"
      },
      "source": [
        "v1"
      ],
      "execution_count": null,
      "outputs": [
        {
          "output_type": "display_data",
          "data": {
            "text/plain": [
              "           e1            e2            e3            e4            e5 \n",
              "            1             1           555             3             5 \n",
              "           e6 nuevo_nombre7 \n",
              "            8           666 "
            ],
            "text/latex": "\\begin{description*}\n\\item[e1] 1\n\\item[e2] 1\n\\item[e3] 555\n\\item[e4] 3\n\\item[e5] 5\n\\item[e6] 8\n\\item[nuevo\\textbackslash{}\\_nombre7] 666\n\\end{description*}\n",
            "text/markdown": "e1\n:   1e2\n:   1e3\n:   555e4\n:   3e5\n:   5e6\n:   8nuevo_nombre7\n:   666\n\n",
            "text/html": [
              "<style>\n",
              ".dl-inline {width: auto; margin:0; padding: 0}\n",
              ".dl-inline>dt, .dl-inline>dd {float: none; width: auto; display: inline-block}\n",
              ".dl-inline>dt::after {content: \":\\0020\"; padding-right: .5ex}\n",
              ".dl-inline>dt:not(:first-of-type) {padding-left: .5ex}\n",
              "</style><dl class=dl-inline><dt>e1</dt><dd>1</dd><dt>e2</dt><dd>1</dd><dt>e3</dt><dd>555</dd><dt>e4</dt><dd>3</dd><dt>e5</dt><dd>5</dd><dt>e6</dt><dd>8</dd><dt>nuevo_nombre7</dt><dd>666</dd></dl>\n"
            ]
          },
          "metadata": {}
        }
      ]
    },
    {
      "cell_type": "markdown",
      "metadata": {
        "id": "XzyIBLZxIgvg"
      },
      "source": [
        "**Algunas sentencias de utilidad**\n",
        "\n",
        "También es posible acceder a los alementos de un vector mediante sentencias lógicas que retornen \"TRUE\" en la posición deseada. Para ello algunas funciones que son de utilidad son las siguientes.\n",
        "\n",
        "   **Conectores lógicos**\n",
        "\n",
        "    &, && |                  : conector y \n",
        "    |,||                     : conector o\n",
        "    ==                       : igual\n",
        "    !                        : negación\n",
        "    !=                       : distinto\n",
        "    >, >=                    : mayor que, mayor o igual que\n",
        "    <,<=                     : menor que, menor o igual que\n",
        "    is.na()                  : es NA?\n",
        "    which()                  : en qué posición es verdadera la expresión evaluada?\n",
        "    which.min(), which.max() : en qué posición se alcanza el mínimi/máximo\n",
        "    %in%                     : los elementos están en?\n",
        "    \n",
        "    "
      ]
    },
    {
      "cell_type": "code",
      "metadata": {
        "id": "NhZPJo56Igvh",
        "colab": {
          "base_uri": "https://localhost:8080/",
          "height": 104
        },
        "outputId": "9b06fa79-c095-44b1-9c5f-a2b9eb27ffe7"
      },
      "source": [
        "# para acceder a elementos de un vector tenemos:\n",
        "# 1. por posicion\n",
        "# 2. por nombre\n",
        "# 3. por indicatrices lógicas (un vector con TRUE (T) o FALSE (F) del mismo largo del que quiero consultar)\n",
        "\n",
        "# El elemtno 3 y 5 del vector v1\n",
        "\n",
        "cond_logica_1 = v_pares > 10\n",
        "\n",
        "v_pares[cond_logica_1]\n",
        "\n",
        "\n",
        "cond_logica_2 = v_pares > 10 &  v_pares < 14\n",
        "\n",
        "v_pares[cond_logica_2]\n",
        "\n",
        "cond_logica_3 = v_pares < 10 | v_pares > 30\n",
        "\n",
        "v_pares[cond_logica_3]\n",
        "\n",
        "cond_logica_3 = !(v_pares < 10 | v_pares > 30)\n",
        "\n",
        "v_pares[cond_logica_3]\n"
      ],
      "execution_count": 151,
      "outputs": [
        {
          "output_type": "display_data",
          "data": {
            "text/plain": [
              " n6  n7  n8  n9 n10 n11 n12 n13 n14 n15 n16 n17 n18 n19 n20 \n",
              " 12  14  16  18  20  22  24  26  28  30  32  34  36  38  40 "
            ],
            "text/latex": "\\begin{description*}\n\\item[n6] 12\n\\item[n7] 14\n\\item[n8] 16\n\\item[n9] 18\n\\item[n10] 20\n\\item[n11] 22\n\\item[n12] 24\n\\item[n13] 26\n\\item[n14] 28\n\\item[n15] 30\n\\item[n16] 32\n\\item[n17] 34\n\\item[n18] 36\n\\item[n19] 38\n\\item[n20] 40\n\\end{description*}\n",
            "text/markdown": "n6\n:   12n7\n:   14n8\n:   16n9\n:   18n10\n:   20n11\n:   22n12\n:   24n13\n:   26n14\n:   28n15\n:   30n16\n:   32n17\n:   34n18\n:   36n19\n:   38n20\n:   40\n\n",
            "text/html": [
              "<style>\n",
              ".dl-inline {width: auto; margin:0; padding: 0}\n",
              ".dl-inline>dt, .dl-inline>dd {float: none; width: auto; display: inline-block}\n",
              ".dl-inline>dt::after {content: \":\\0020\"; padding-right: .5ex}\n",
              ".dl-inline>dt:not(:first-of-type) {padding-left: .5ex}\n",
              "</style><dl class=dl-inline><dt>n6</dt><dd>12</dd><dt>n7</dt><dd>14</dd><dt>n8</dt><dd>16</dd><dt>n9</dt><dd>18</dd><dt>n10</dt><dd>20</dd><dt>n11</dt><dd>22</dd><dt>n12</dt><dd>24</dd><dt>n13</dt><dd>26</dd><dt>n14</dt><dd>28</dd><dt>n15</dt><dd>30</dd><dt>n16</dt><dd>32</dd><dt>n17</dt><dd>34</dd><dt>n18</dt><dd>36</dd><dt>n19</dt><dd>38</dd><dt>n20</dt><dd>40</dd></dl>\n"
            ]
          },
          "metadata": {}
        },
        {
          "output_type": "display_data",
          "data": {
            "text/plain": [
              "n6 \n",
              "12 "
            ],
            "text/latex": "\\textbf{n6:} 12",
            "text/markdown": "**n6:** 12",
            "text/html": [
              "<strong>n6:</strong> 12"
            ]
          },
          "metadata": {}
        },
        {
          "output_type": "display_data",
          "data": {
            "text/plain": [
              " n1  n2  n3  n4 n16 n17 n18 n19 n20 \n",
              "  2   4   6   8  32  34  36  38  40 "
            ],
            "text/latex": "\\begin{description*}\n\\item[n1] 2\n\\item[n2] 4\n\\item[n3] 6\n\\item[n4] 8\n\\item[n16] 32\n\\item[n17] 34\n\\item[n18] 36\n\\item[n19] 38\n\\item[n20] 40\n\\end{description*}\n",
            "text/markdown": "n1\n:   2n2\n:   4n3\n:   6n4\n:   8n16\n:   32n17\n:   34n18\n:   36n19\n:   38n20\n:   40\n\n",
            "text/html": [
              "<style>\n",
              ".dl-inline {width: auto; margin:0; padding: 0}\n",
              ".dl-inline>dt, .dl-inline>dd {float: none; width: auto; display: inline-block}\n",
              ".dl-inline>dt::after {content: \":\\0020\"; padding-right: .5ex}\n",
              ".dl-inline>dt:not(:first-of-type) {padding-left: .5ex}\n",
              "</style><dl class=dl-inline><dt>n1</dt><dd>2</dd><dt>n2</dt><dd>4</dd><dt>n3</dt><dd>6</dd><dt>n4</dt><dd>8</dd><dt>n16</dt><dd>32</dd><dt>n17</dt><dd>34</dd><dt>n18</dt><dd>36</dd><dt>n19</dt><dd>38</dd><dt>n20</dt><dd>40</dd></dl>\n"
            ]
          },
          "metadata": {}
        },
        {
          "output_type": "display_data",
          "data": {
            "text/plain": [
              " n5  n6  n7  n8  n9 n10 n11 n12 n13 n14 n15 \n",
              " 10  12  14  16  18  20  22  24  26  28  30 "
            ],
            "text/latex": "\\begin{description*}\n\\item[n5] 10\n\\item[n6] 12\n\\item[n7] 14\n\\item[n8] 16\n\\item[n9] 18\n\\item[n10] 20\n\\item[n11] 22\n\\item[n12] 24\n\\item[n13] 26\n\\item[n14] 28\n\\item[n15] 30\n\\end{description*}\n",
            "text/markdown": "n5\n:   10n6\n:   12n7\n:   14n8\n:   16n9\n:   18n10\n:   20n11\n:   22n12\n:   24n13\n:   26n14\n:   28n15\n:   30\n\n",
            "text/html": [
              "<style>\n",
              ".dl-inline {width: auto; margin:0; padding: 0}\n",
              ".dl-inline>dt, .dl-inline>dd {float: none; width: auto; display: inline-block}\n",
              ".dl-inline>dt::after {content: \":\\0020\"; padding-right: .5ex}\n",
              ".dl-inline>dt:not(:first-of-type) {padding-left: .5ex}\n",
              "</style><dl class=dl-inline><dt>n5</dt><dd>10</dd><dt>n6</dt><dd>12</dd><dt>n7</dt><dd>14</dd><dt>n8</dt><dd>16</dd><dt>n9</dt><dd>18</dd><dt>n10</dt><dd>20</dd><dt>n11</dt><dd>22</dd><dt>n12</dt><dd>24</dd><dt>n13</dt><dd>26</dd><dt>n14</dt><dd>28</dd><dt>n15</dt><dd>30</dd></dl>\n"
            ]
          },
          "metadata": {}
        }
      ]
    },
    {
      "cell_type": "code",
      "metadata": {
        "id": "5C4hDsvSIgvj",
        "colab": {
          "base_uri": "https://localhost:8080/",
          "height": 52
        },
        "outputId": "59d5d134-192e-43b8-bf3b-24584d089cc9"
      },
      "source": [
        "# Esto facilita la búsqueda dentro de un un vector. Ej: retornar los elementos mayores aun valor dado\n",
        "v1\n",
        "v1 > 10"
      ],
      "execution_count": null,
      "outputs": [
        {
          "output_type": "display_data",
          "data": {
            "text/plain": [
              "           e1            e2            e3            e4            e5 \n",
              "            1             1           555             3             5 \n",
              "           e6 nuevo_nombre7 \n",
              "            8           666 "
            ],
            "text/latex": "\\begin{description*}\n\\item[e1] 1\n\\item[e2] 1\n\\item[e3] 555\n\\item[e4] 3\n\\item[e5] 5\n\\item[e6] 8\n\\item[nuevo\\textbackslash{}\\_nombre7] 666\n\\end{description*}\n",
            "text/markdown": "e1\n:   1e2\n:   1e3\n:   555e4\n:   3e5\n:   5e6\n:   8nuevo_nombre7\n:   666\n\n",
            "text/html": [
              "<style>\n",
              ".dl-inline {width: auto; margin:0; padding: 0}\n",
              ".dl-inline>dt, .dl-inline>dd {float: none; width: auto; display: inline-block}\n",
              ".dl-inline>dt::after {content: \":\\0020\"; padding-right: .5ex}\n",
              ".dl-inline>dt:not(:first-of-type) {padding-left: .5ex}\n",
              "</style><dl class=dl-inline><dt>e1</dt><dd>1</dd><dt>e2</dt><dd>1</dd><dt>e3</dt><dd>555</dd><dt>e4</dt><dd>3</dd><dt>e5</dt><dd>5</dd><dt>e6</dt><dd>8</dd><dt>nuevo_nombre7</dt><dd>666</dd></dl>\n"
            ]
          },
          "metadata": {}
        },
        {
          "output_type": "display_data",
          "data": {
            "text/plain": [
              "           e1            e2            e3            e4            e5 \n",
              "        FALSE         FALSE          TRUE         FALSE         FALSE \n",
              "           e6 nuevo_nombre7 \n",
              "        FALSE          TRUE "
            ],
            "text/latex": "\\begin{description*}\n\\item[e1] FALSE\n\\item[e2] FALSE\n\\item[e3] TRUE\n\\item[e4] FALSE\n\\item[e5] FALSE\n\\item[e6] FALSE\n\\item[nuevo\\textbackslash{}\\_nombre7] TRUE\n\\end{description*}\n",
            "text/markdown": "e1\n:   FALSEe2\n:   FALSEe3\n:   TRUEe4\n:   FALSEe5\n:   FALSEe6\n:   FALSEnuevo_nombre7\n:   TRUE\n\n",
            "text/html": [
              "<style>\n",
              ".dl-inline {width: auto; margin:0; padding: 0}\n",
              ".dl-inline>dt, .dl-inline>dd {float: none; width: auto; display: inline-block}\n",
              ".dl-inline>dt::after {content: \":\\0020\"; padding-right: .5ex}\n",
              ".dl-inline>dt:not(:first-of-type) {padding-left: .5ex}\n",
              "</style><dl class=dl-inline><dt>e1</dt><dd>FALSE</dd><dt>e2</dt><dd>FALSE</dd><dt>e3</dt><dd>TRUE</dd><dt>e4</dt><dd>FALSE</dd><dt>e5</dt><dd>FALSE</dd><dt>e6</dt><dd>FALSE</dd><dt>nuevo_nombre7</dt><dd>TRUE</dd></dl>\n"
            ]
          },
          "metadata": {}
        }
      ]
    },
    {
      "cell_type": "code",
      "metadata": {
        "id": "jqq5Sl6uHqiA",
        "colab": {
          "base_uri": "https://localhost:8080/",
          "height": 35
        },
        "outputId": "ce9779d9-e292-42d5-d741-0234bb40d4ec"
      },
      "source": [
        "v1[v1 > 10]"
      ],
      "execution_count": null,
      "outputs": [
        {
          "output_type": "display_data",
          "data": {
            "text/plain": [
              "           e3 nuevo_nombre7 \n",
              "          555           666 "
            ],
            "text/latex": "\\begin{description*}\n\\item[e3] 555\n\\item[nuevo\\textbackslash{}\\_nombre7] 666\n\\end{description*}\n",
            "text/markdown": "e3\n:   555nuevo_nombre7\n:   666\n\n",
            "text/html": [
              "<style>\n",
              ".dl-inline {width: auto; margin:0; padding: 0}\n",
              ".dl-inline>dt, .dl-inline>dd {float: none; width: auto; display: inline-block}\n",
              ".dl-inline>dt::after {content: \":\\0020\"; padding-right: .5ex}\n",
              ".dl-inline>dt:not(:first-of-type) {padding-left: .5ex}\n",
              "</style><dl class=dl-inline><dt>e3</dt><dd>555</dd><dt>nuevo_nombre7</dt><dd>666</dd></dl>\n"
            ]
          },
          "metadata": {}
        }
      ]
    },
    {
      "cell_type": "code",
      "metadata": {
        "id": "fvq5tBXVIgvm"
      },
      "source": [
        "# podríamos guardar el vector de T o F's en una variable para luego referenciarla\n",
        "\n"
      ],
      "execution_count": null,
      "outputs": []
    },
    {
      "cell_type": "code",
      "metadata": {
        "id": "ioUJy8UEIgvz",
        "outputId": "375de964-e5fd-4c36-9f96-4a5f8e074ecf",
        "colab": {
          "base_uri": "https://localhost:8080/",
          "height": 104
        }
      },
      "source": [
        "#?which.max\n",
        "#podemos rescatar el valor mediante el índice guardado\n",
        "promedio_chile <- 1.68\n",
        "desviacion_estatura <- 0.3\n",
        "\n",
        "\n",
        "\n",
        "\n",
        "set.seed(2021)\n",
        "\n",
        "estaturas_1 <- rnorm(mean = promedio_chile, sd = desviacion_estatura,  n = 200)\n",
        "\n",
        "set.seed(NULL)\n",
        "\n",
        "estaturas_2 <- rnorm(mean = promedio_chile, sd = desviacion_estatura,  n = 200)\n",
        "\n",
        "which.max(estaturas_1)\n",
        "which.max(estaturas_2)\n",
        "\n",
        "which.min(estaturas_1)\n",
        "which.min(estaturas_2)\n",
        "\n",
        "\n",
        "which(estaturas_1 > 2)\n",
        "\n"
      ],
      "execution_count": 181,
      "outputs": [
        {
          "output_type": "display_data",
          "data": {
            "text/plain": [
              "[1] 169"
            ],
            "text/latex": "169",
            "text/markdown": "169",
            "text/html": [
              "169"
            ]
          },
          "metadata": {}
        },
        {
          "output_type": "display_data",
          "data": {
            "text/plain": [
              "[1] 22"
            ],
            "text/latex": "22",
            "text/markdown": "22",
            "text/html": [
              "22"
            ]
          },
          "metadata": {}
        },
        {
          "output_type": "display_data",
          "data": {
            "text/plain": [
              "[1] 108"
            ],
            "text/latex": "108",
            "text/markdown": "108",
            "text/html": [
              "108"
            ]
          },
          "metadata": {}
        },
        {
          "output_type": "display_data",
          "data": {
            "text/plain": [
              "[1] 68"
            ],
            "text/latex": "68",
            "text/markdown": "68",
            "text/html": [
              "68"
            ]
          },
          "metadata": {}
        },
        {
          "output_type": "display_data",
          "data": {
            "text/plain": [
              " [1]  10  14  15  17  19  20  24  30  42  44  47  68  74 116 118 125 127 130 150\n",
              "[20] 168 169 170 178 187 193"
            ],
            "text/latex": "\\begin{enumerate*}\n\\item 10\n\\item 14\n\\item 15\n\\item 17\n\\item 19\n\\item 20\n\\item 24\n\\item 30\n\\item 42\n\\item 44\n\\item 47\n\\item 68\n\\item 74\n\\item 116\n\\item 118\n\\item 125\n\\item 127\n\\item 130\n\\item 150\n\\item 168\n\\item 169\n\\item 170\n\\item 178\n\\item 187\n\\item 193\n\\end{enumerate*}\n",
            "text/markdown": "1. 10\n2. 14\n3. 15\n4. 17\n5. 19\n6. 20\n7. 24\n8. 30\n9. 42\n10. 44\n11. 47\n12. 68\n13. 74\n14. 116\n15. 118\n16. 125\n17. 127\n18. 130\n19. 150\n20. 168\n21. 169\n22. 170\n23. 178\n24. 187\n25. 193\n\n\n",
            "text/html": [
              "<style>\n",
              ".list-inline {list-style: none; margin:0; padding: 0}\n",
              ".list-inline>li {display: inline-block}\n",
              ".list-inline>li:not(:last-child)::after {content: \"\\00b7\"; padding: 0 .5ex}\n",
              "</style>\n",
              "<ol class=list-inline><li>10</li><li>14</li><li>15</li><li>17</li><li>19</li><li>20</li><li>24</li><li>30</li><li>42</li><li>44</li><li>47</li><li>68</li><li>74</li><li>116</li><li>118</li><li>125</li><li>127</li><li>130</li><li>150</li><li>168</li><li>169</li><li>170</li><li>178</li><li>187</li><li>193</li></ol>\n"
            ]
          },
          "metadata": {}
        }
      ]
    },
    {
      "cell_type": "code",
      "metadata": {
        "id": "myWruLBSIWMi"
      },
      "source": [
        ""
      ],
      "execution_count": null,
      "outputs": []
    },
    {
      "cell_type": "code",
      "metadata": {
        "id": "_8-SMxfWIgv0"
      },
      "source": [
        "# Operador %in%\n",
        "# vector_a %in% vector_b (qué elementos del vector a están en el vector b)\n",
        "# retorna un  vector de TRUE's y FALSE's del largo del primer vector(a) (izquierda) \n"
      ],
      "execution_count": null,
      "outputs": []
    },
    {
      "cell_type": "code",
      "metadata": {
        "id": "s9bYOQ4GIgv2"
      },
      "source": [
        "# podemos utilizar la función all() para evaluar si todos los elementos de un vector son TRUE.\n"
      ],
      "execution_count": null,
      "outputs": []
    },
    {
      "cell_type": "code",
      "metadata": {
        "id": "Wd-mSv3PIgv4"
      },
      "source": [
        "# si quisiéramos evaluar que todos los elementos de la izq. estén en la derecha,\n",
        "# podemos utilizar la función all()."
      ],
      "execution_count": null,
      "outputs": []
    },
    {
      "cell_type": "code",
      "metadata": {
        "id": "Zn85mjGmIgv5"
      },
      "source": [
        ""
      ],
      "execution_count": null,
      "outputs": []
    },
    {
      "cell_type": "code",
      "metadata": {
        "id": "1YGnzt1zIgv7"
      },
      "source": [
        "# aritmética con vectores\n",
        "# operación de vectore de igual largo\n"
      ],
      "execution_count": null,
      "outputs": []
    },
    {
      "cell_type": "code",
      "metadata": {
        "id": "Bw8lX76XIgv8",
        "outputId": "4e1d1ff1-aabe-4699-829d-00f541754fc3",
        "colab": {
          "base_uri": "https://localhost:8080/",
          "height": 69
        }
      },
      "source": [
        "#ponderaciones por escalares\n",
        "\n",
        "v1 <- 1:100\n",
        "\n",
        "v2 <- 1:20\n",
        "\n",
        "v1 + v2\n",
        "\n",
        "\n"
      ],
      "execution_count": 184,
      "outputs": [
        {
          "output_type": "display_data",
          "data": {
            "text/plain": [
              "  [1]   2   4   6   8  10  12  14  16  18  20  22  24  26  28  30  32  34  36\n",
              " [19]  38  40  22  24  26  28  30  32  34  36  38  40  42  44  46  48  50  52\n",
              " [37]  54  56  58  60  42  44  46  48  50  52  54  56  58  60  62  64  66  68\n",
              " [55]  70  72  74  76  78  80  62  64  66  68  70  72  74  76  78  80  82  84\n",
              " [73]  86  88  90  92  94  96  98 100  82  84  86  88  90  92  94  96  98 100\n",
              " [91] 102 104 106 108 110 112 114 116 118 120"
            ],
            "text/latex": "\\begin{enumerate*}\n\\item 2\n\\item 4\n\\item 6\n\\item 8\n\\item 10\n\\item 12\n\\item 14\n\\item 16\n\\item 18\n\\item 20\n\\item 22\n\\item 24\n\\item 26\n\\item 28\n\\item 30\n\\item 32\n\\item 34\n\\item 36\n\\item 38\n\\item 40\n\\item 22\n\\item 24\n\\item 26\n\\item 28\n\\item 30\n\\item 32\n\\item 34\n\\item 36\n\\item 38\n\\item 40\n\\item 42\n\\item 44\n\\item 46\n\\item 48\n\\item 50\n\\item 52\n\\item 54\n\\item 56\n\\item 58\n\\item 60\n\\item 42\n\\item 44\n\\item 46\n\\item 48\n\\item 50\n\\item 52\n\\item 54\n\\item 56\n\\item 58\n\\item 60\n\\item 62\n\\item 64\n\\item 66\n\\item 68\n\\item 70\n\\item 72\n\\item 74\n\\item 76\n\\item 78\n\\item 80\n\\item 62\n\\item 64\n\\item 66\n\\item 68\n\\item 70\n\\item 72\n\\item 74\n\\item 76\n\\item 78\n\\item 80\n\\item 82\n\\item 84\n\\item 86\n\\item 88\n\\item 90\n\\item 92\n\\item 94\n\\item 96\n\\item 98\n\\item 100\n\\item 82\n\\item 84\n\\item 86\n\\item 88\n\\item 90\n\\item 92\n\\item 94\n\\item 96\n\\item 98\n\\item 100\n\\item 102\n\\item 104\n\\item 106\n\\item 108\n\\item 110\n\\item 112\n\\item 114\n\\item 116\n\\item 118\n\\item 120\n\\end{enumerate*}\n",
            "text/markdown": "1. 2\n2. 4\n3. 6\n4. 8\n5. 10\n6. 12\n7. 14\n8. 16\n9. 18\n10. 20\n11. 22\n12. 24\n13. 26\n14. 28\n15. 30\n16. 32\n17. 34\n18. 36\n19. 38\n20. 40\n21. 22\n22. 24\n23. 26\n24. 28\n25. 30\n26. 32\n27. 34\n28. 36\n29. 38\n30. 40\n31. 42\n32. 44\n33. 46\n34. 48\n35. 50\n36. 52\n37. 54\n38. 56\n39. 58\n40. 60\n41. 42\n42. 44\n43. 46\n44. 48\n45. 50\n46. 52\n47. 54\n48. 56\n49. 58\n50. 60\n51. 62\n52. 64\n53. 66\n54. 68\n55. 70\n56. 72\n57. 74\n58. 76\n59. 78\n60. 80\n61. 62\n62. 64\n63. 66\n64. 68\n65. 70\n66. 72\n67. 74\n68. 76\n69. 78\n70. 80\n71. 82\n72. 84\n73. 86\n74. 88\n75. 90\n76. 92\n77. 94\n78. 96\n79. 98\n80. 100\n81. 82\n82. 84\n83. 86\n84. 88\n85. 90\n86. 92\n87. 94\n88. 96\n89. 98\n90. 100\n91. 102\n92. 104\n93. 106\n94. 108\n95. 110\n96. 112\n97. 114\n98. 116\n99. 118\n100. 120\n\n\n",
            "text/html": [
              "<style>\n",
              ".list-inline {list-style: none; margin:0; padding: 0}\n",
              ".list-inline>li {display: inline-block}\n",
              ".list-inline>li:not(:last-child)::after {content: \"\\00b7\"; padding: 0 .5ex}\n",
              "</style>\n",
              "<ol class=list-inline><li>2</li><li>4</li><li>6</li><li>8</li><li>10</li><li>12</li><li>14</li><li>16</li><li>18</li><li>20</li><li>22</li><li>24</li><li>26</li><li>28</li><li>30</li><li>32</li><li>34</li><li>36</li><li>38</li><li>40</li><li>22</li><li>24</li><li>26</li><li>28</li><li>30</li><li>32</li><li>34</li><li>36</li><li>38</li><li>40</li><li>42</li><li>44</li><li>46</li><li>48</li><li>50</li><li>52</li><li>54</li><li>56</li><li>58</li><li>60</li><li>42</li><li>44</li><li>46</li><li>48</li><li>50</li><li>52</li><li>54</li><li>56</li><li>58</li><li>60</li><li>62</li><li>64</li><li>66</li><li>68</li><li>70</li><li>72</li><li>74</li><li>76</li><li>78</li><li>80</li><li>62</li><li>64</li><li>66</li><li>68</li><li>70</li><li>72</li><li>74</li><li>76</li><li>78</li><li>80</li><li>82</li><li>84</li><li>86</li><li>88</li><li>90</li><li>92</li><li>94</li><li>96</li><li>98</li><li>100</li><li>82</li><li>84</li><li>86</li><li>88</li><li>90</li><li>92</li><li>94</li><li>96</li><li>98</li><li>100</li><li>102</li><li>104</li><li>106</li><li>108</li><li>110</li><li>112</li><li>114</li><li>116</li><li>118</li><li>120</li></ol>\n"
            ]
          },
          "metadata": {}
        }
      ]
    },
    {
      "cell_type": "code",
      "metadata": {
        "id": "syufc9_OIgv_"
      },
      "source": [
        "#CUIDADO: Si se operan vectores de dstinto largo se reciclan los valores del vector más pequeño\n"
      ],
      "execution_count": null,
      "outputs": []
    },
    {
      "cell_type": "code",
      "metadata": {
        "id": "9kfbx6J4IgwC"
      },
      "source": [
        "# NOTA:\n",
        "# podemos determinar el largo de un vector mediante la función length()\n"
      ],
      "execution_count": null,
      "outputs": []
    },
    {
      "cell_type": "markdown",
      "metadata": {
        "id": "LIr-IFowIgwD"
      },
      "source": [
        "**Secuencias**\n",
        "\n",
        "En R es posible generar de manera rápida y sencilla algunas secuencias numéricas y almacenarlas en un vector.\n",
        "\n",
        "Ejemplo de estas funciones son :\n",
        "\n",
        "    rep()\n",
        "    seq()\n",
        "    \n",
        "Más adelante veremos como generar números aleatorios siguiendo alguna función de distribución de interés.\n",
        "\n"
      ]
    },
    {
      "cell_type": "code",
      "metadata": {
        "id": "wk0fB_gWIgwE"
      },
      "source": [
        "# a vimos que fácilmente ppodemos generar vectores de enteros consecutivos vía \":\"\n"
      ],
      "execution_count": null,
      "outputs": []
    },
    {
      "cell_type": "code",
      "metadata": {
        "id": "rG-Q3PmhIgwG"
      },
      "source": [
        "# Ejemplo de secuencia con rep (utilice distintos tipos de datos)\n"
      ],
      "execution_count": null,
      "outputs": []
    },
    {
      "cell_type": "code",
      "metadata": {
        "id": "PpEgoWDXIgwI"
      },
      "source": [
        "# podemos controlar el largo del vector resultante con el parámetro length.out\n"
      ],
      "execution_count": null,
      "outputs": []
    },
    {
      "cell_type": "code",
      "metadata": {
        "id": "gGkgGylnIgwK"
      },
      "source": [
        "# ejemplo de función seq (utilice argumento by, y otro ejemplo con argumento length.out)\n"
      ],
      "execution_count": null,
      "outputs": []
    },
    {
      "cell_type": "code",
      "metadata": {
        "id": "psRswQHBIgwO"
      },
      "source": [
        "# ejemplo de vector aleatorio siguiendo una determinada distribución\n",
        "\n",
        "# distribución uniforme\n",
        "# distribución normal\n",
        "\n",
        "\n",
        "\n",
        "\n",
        "\n"
      ],
      "execution_count": null,
      "outputs": []
    },
    {
      "cell_type": "markdown",
      "metadata": {
        "id": "TlnEINwUIgwP"
      },
      "source": [
        "### 3.2 Funciones (primera parte) \n",
        "\n",
        "#### 3.2.1 Funciones vectorizadas y operaciones con vectores\n",
        "\n",
        "R es un lenguaje funcional, en el sentido de que prácticamente cada llamada a R corresponde a una función que puede (o no) recibir argumentos de entrada.\n",
        "Una de las ventajas es que existe una amplia, muy amplia,... verdaderamente amplia!, variedad de funciones disponibles, tanto en las librerías que vienen con la instalación por defecto como las librerías disponibles en CRAN o en toda la comunidad R.\n",
        "\n",
        "En R, una función $f$ se dice vectorizada si dado un vector $\\mathbf{x}=(x_1,x_2,\\dots,x_n)$, se tiene que $f(\\mathbf{x})=(f(x_1),f(x_2),\\dots,f(x_n))$.\n",
        "Esto hace que, por ejemplo, la aritmética de vectores se más sencilla de implentar y con un menor tiempo de cómputo . Gran parte de las funciones disponibles en la librerías (bibliotecas o *packages*) de R corresponden a funciones vectorizadas.\n",
        "A modo de ejemplo, a cotinuación se muestran algunas funciones (de las más básicas) aritméticas, y funciones para trabajar con texto:\n",
        "    \n",
        "    +,-,*,/\n",
        "    abs()\n",
        "    sqrt()\n",
        "    cos()\n",
        "    sin()\n",
        "    tan()\n",
        "    nchar()\n",
        "    susbtr()\n",
        "    grepl()\n",
        "    gsub()\n",
        "    \n",
        "   \n",
        "   \n",
        "   "
      ]
    },
    {
      "cell_type": "code",
      "metadata": {
        "id": "tO3oB1bnIgwP"
      },
      "source": [
        "# 3.2. Funciones (primera parte) ------------\n",
        "# 3.2.1 Funciones vectorizadas \n",
        "# Ejemplos básicos de funciones(vectorizadas)\n"
      ],
      "execution_count": null,
      "outputs": []
    },
    {
      "cell_type": "code",
      "metadata": {
        "id": "Z8L-KeGnIgwS"
      },
      "source": [
        ""
      ],
      "execution_count": null,
      "outputs": []
    },
    {
      "cell_type": "code",
      "metadata": {
        "id": "NivskO3jIgwT"
      },
      "source": [
        "# funciones para manipular texto\n",
        " #cantidad de caracteres\n",
        "\n",
        "\n"
      ],
      "execution_count": null,
      "outputs": []
    },
    {
      "cell_type": "code",
      "metadata": {
        "id": "tA55foL1IgwX"
      },
      "source": [
        "# substring substr()\n",
        "\n"
      ],
      "execution_count": null,
      "outputs": []
    },
    {
      "cell_type": "code",
      "metadata": {
        "id": "vjRwdUbiIgwY"
      },
      "source": [
        "# grepl() evlaúa si un  caracter está contenido en otro. (LIKE)\n",
        "#?grepl()\n",
        "grepl(\"ala\", \"palabra\")\n",
        "grepl(\"alo\", \"palabra\")\n",
        "\n",
        "\n",
        "#gsub()\n",
        "#?gsub\n",
        "\n",
        "# si reemplazamos en un vector de palabras\n",
        "\n"
      ],
      "execution_count": null,
      "outputs": []
    },
    {
      "cell_type": "code",
      "metadata": {
        "id": "0j9kKUbzIgwZ"
      },
      "source": [
        "#gsub() reemplaza caracteres dentro de un texto\n",
        "#https://www.tidytextmining.com/\n"
      ],
      "execution_count": null,
      "outputs": []
    }
  ]
}