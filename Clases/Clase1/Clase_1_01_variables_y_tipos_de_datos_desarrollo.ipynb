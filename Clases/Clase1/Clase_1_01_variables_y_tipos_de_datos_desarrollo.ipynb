{
  "nbformat": 4,
  "nbformat_minor": 0,
  "metadata": {
    "colab": {
      "name": "Clase_1_01_variables_y_tipos_de_datos.ipynb",
      "provenance": [],
      "collapsed_sections": [],
      "include_colab_link": true
    },
    "kernelspec": {
      "name": "ir",
      "display_name": "R"
    }
  },
  "cells": [
    {
      "cell_type": "markdown",
      "metadata": {
        "id": "view-in-github",
        "colab_type": "text"
      },
      "source": [
        "<a href=\"https://colab.research.google.com/github/majorquev/Introduccion_a_ciencia_de_datos_R_v2/blob/main/Clases/Clase1/Clase_1_01_variables_y_tipos_de_datos_desarrollo.ipynb\" target=\"_parent\"><img src=\"https://colab.research.google.com/assets/colab-badge.svg\" alt=\"Open In Colab\"/></a>"
      ]
    },
    {
      "cell_type": "markdown",
      "metadata": {
        "collapsed": true,
        "id": "Kc2ORhjSySMx"
      },
      "source": [
        "# Parte 1: Introducción a R\n",
        "\n",
        "**Autor:** Miguel Jorquera Viguera<br>\n",
        "**E-mail:** majorquev@gmail.com<br>\n",
        "\n",
        "**Ayudante:** Rodrigo Morales Méndez <br>\n",
        "**E-mail ayudante:** rumorale1@gmail.com\n",
        "\n",
        "## Conociendo R\n",
        "\n",
        "### Conociendo R de nuevo\n",
        " R es un lenguaje funcional orientado principalmente al análisis de datos. Fue desarrollado por Ross Ihaka y Robert Gentleman, cuyas iniciales de sus nombres dieron origen al nombre de este software.\n",
        " \n",
        "Hoy existen varias maneras de ejecutar R, una de ellas es de manera local, para lo cual es posible descargar la última versión (disponible para Windows, Linux y OSX), desde el repositorio CRAN (https://cran.r-project.org/) .\n",
        "Otra manera es mediante la utilización de Google Colab, los que permiten la ejecución de R de manera remota, sin la necesidad de instalar R.\n",
        "\n",
        "En un notebook podemos añadir info.\n",
        "Podemos editar esto...\n",
        "\n",
        "# Puedo añadir otro  título\n",
        "## Subtítulo\n",
        "### Etc..\n",
        "\n",
        "Generar listas\n",
        "\n",
        "   * Hola\n",
        "   * Otra opción\n",
        "   * opcion 2\n",
        "\n",
        "Código en latex $\\sum\\limits_{i=1}^n x_i$ $\\lim_{x \\rightarrow 1}$ \n"
      ]
    },
    {
      "cell_type": "markdown",
      "metadata": {
        "id": "Z4TXkSy6ySMy"
      },
      "source": [
        "## 1. R... Una gran calculadora\n",
        "\n",
        "En R es posible ejecutar directamente en consola sentencias aritméticas simples, junto con la evaluación de una gran cantidad de funciones disponibles por defecto.\n",
        "\n",
        "    - + , -, /,* ,^ , %%, %*%.\n",
        "    - Logaritmo natural: log() \n",
        "    - Funciones trigonométricas: sin() , cos(), tan(), asin() ,acos(), atan()\n",
        "    - Función exponencial: exp() \n",
        "    - Raiz cuadrada: sqrt().\n",
        "    - Valor absoluto: abs()\n",
        "    - parte entera: floor()\n",
        "    - Truncar: trunc()\n",
        "    - Redondear: round(,)\n",
        "    - Factorial: factorial()\n",
        "    - Número combinatorio: choose(n,k)\n"
      ]
    },
    {
      "cell_type": "code",
      "metadata": {
        "id": "O4E1j5ngySMz",
        "colab": {
          "base_uri": "https://localhost:8080/",
          "height": 34
        },
        "outputId": "ea682232-97cd-48c1-9909-1108a96a5f33"
      },
      "source": [
        "# En estas celdas pueden ejecutar código R. Las líneas que comiencen con '#' corresponden a comentarios y por ende no son ejecutables\n",
        "# Shift + Enter : ejecuta el código de la celda y pasan a la celda siguiente.\n",
        "(4*5) + 4/5\n"
      ],
      "execution_count": 1,
      "outputs": [
        {
          "output_type": "display_data",
          "data": {
            "text/plain": [
              "[1] 20.8"
            ],
            "text/latex": "20.8",
            "text/markdown": "20.8",
            "text/html": [
              "20.8"
            ]
          },
          "metadata": {}
        }
      ]
    },
    {
      "cell_type": "markdown",
      "metadata": {
        "id": "fvcIxMW4ySM5"
      },
      "source": [
        "## 2. Variables y tipos de datos\n",
        "\n",
        "En R es posible distintos tipos de datos u objetos en símbolos llamados variables (en R todo es en esencia un objeto).<br>\n",
        "La manera más sencilla de asignar un objeto a una variable es mediante la función \"<-\". Los tipos de datos más utilizados en R corresponden a :\n",
        "    \n",
        "    integer   \n",
        "    double  \n",
        "    logical   \n",
        "    character \n",
        "    factor  \n",
        "    date\n",
        "\n",
        "A diferencia de otros lenguajes de programación, no es necesario declarar explicitamente el tipo de dato que almacenará una variable (R es inteligente!)"
      ]
    },
    {
      "cell_type": "code",
      "metadata": {
        "id": "LUgwYSvMySM5",
        "cellView": "both"
      },
      "source": [
        "# Podemos definir distintas variables\n",
        "a <- 3.5\n"
      ],
      "execution_count": 2,
      "outputs": []
    },
    {
      "cell_type": "code",
      "metadata": {
        "id": "pTs70oPJyPqc"
      },
      "source": [
        "b <- 8"
      ],
      "execution_count": 3,
      "outputs": []
    },
    {
      "cell_type": "code",
      "metadata": {
        "id": "GSrU1U-eySKS",
        "outputId": "fa21ab4a-73bd-4711-fdc6-cb58fa764ba3",
        "colab": {
          "base_uri": "https://localhost:8080/",
          "height": 34
        }
      },
      "source": [
        "a+b"
      ],
      "execution_count": 4,
      "outputs": [
        {
          "output_type": "display_data",
          "data": {
            "text/plain": [
              "[1] 11.5"
            ],
            "text/latex": "11.5",
            "text/markdown": "11.5",
            "text/html": [
              "11.5"
            ]
          },
          "metadata": {}
        }
      ]
    },
    {
      "cell_type": "code",
      "metadata": {
        "id": "2lqK4mChySM-"
      },
      "source": [
        "# strings(character)\n",
        "p1 <- \"hola\""
      ],
      "execution_count": 5,
      "outputs": []
    },
    {
      "cell_type": "code",
      "metadata": {
        "id": "Ezf5PqFPycoH",
        "outputId": "323b3c4c-c189-4be1-86e4-1d706c6d72d2",
        "colab": {
          "base_uri": "https://localhost:8080/",
          "height": 34
        }
      },
      "source": [
        "p1"
      ],
      "execution_count": 6,
      "outputs": [
        {
          "output_type": "display_data",
          "data": {
            "text/plain": [
              "[1] \"hola\""
            ],
            "text/latex": "'hola'",
            "text/markdown": "'hola'",
            "text/html": [
              "'hola'"
            ]
          },
          "metadata": {}
        }
      ]
    },
    {
      "cell_type": "code",
      "metadata": {
        "id": "TvnfvFZFySNC"
      },
      "source": [
        "# valores lógicos (logical)\n",
        "verdad <- TRUE\n",
        "falso <- FALSE"
      ],
      "execution_count": 7,
      "outputs": []
    },
    {
      "cell_type": "code",
      "metadata": {
        "id": "n-cknpq2N1UO",
        "outputId": "8192c99d-3bad-4e1a-de82-bdaa0fbb1cba",
        "colab": {
          "base_uri": "https://localhost:8080/",
          "height": 51
        }
      },
      "source": [
        "# conector lógicos ( & es el \"y\", | es el \"o\" )\n",
        "verdad & falso # \"&\" corresponde a la conjunción \"y\"\n",
        "verdad | falso # \"|\" corresponde a la disyunción \"o\""
      ],
      "execution_count": 8,
      "outputs": [
        {
          "output_type": "display_data",
          "data": {
            "text/plain": [
              "[1] FALSE"
            ],
            "text/latex": "FALSE",
            "text/markdown": "FALSE",
            "text/html": [
              "FALSE"
            ]
          },
          "metadata": {}
        },
        {
          "output_type": "display_data",
          "data": {
            "text/plain": [
              "[1] TRUE"
            ],
            "text/latex": "TRUE",
            "text/markdown": "TRUE",
            "text/html": [
              "TRUE"
            ]
          },
          "metadata": {}
        }
      ]
    },
    {
      "cell_type": "code",
      "metadata": {
        "id": "fMK_ImlTzC5h",
        "outputId": "b52b62a8-dd7f-480b-d60a-03a31dcc6334",
        "colab": {
          "base_uri": "https://localhost:8080/",
          "height": 95
        }
      },
      "source": [
        "# Que pasa si aplicamos operaciones aritméticas entre tipos de datos NO compatibles\n",
        "\n",
        "p1 + a"
      ],
      "execution_count": 9,
      "outputs": [
        {
          "output_type": "error",
          "ename": "ERROR",
          "evalue": "ignored",
          "traceback": [
            "Error in p1 + a: non-numeric argument to binary operator\nTraceback:\n"
          ]
        }
      ]
    },
    {
      "cell_type": "code",
      "metadata": {
        "id": "5TaXp2j8ySNK",
        "outputId": "8f682b23-91ef-477d-b941-95cf6123df6f",
        "colab": {
          "base_uri": "https://localhost:8080/",
          "height": 34
        }
      },
      "source": [
        "# Podemos comparar la igualdad lógica entre dos valores mendiante \"==\"\n",
        "\n",
        "1+1 == 2 "
      ],
      "execution_count": 10,
      "outputs": [
        {
          "output_type": "display_data",
          "data": {
            "text/plain": [
              "[1] TRUE"
            ],
            "text/latex": "TRUE",
            "text/markdown": "TRUE",
            "text/html": [
              "TRUE"
            ]
          },
          "metadata": {}
        }
      ]
    },
    {
      "cell_type": "code",
      "metadata": {
        "id": "3mq1eAigySNN",
        "outputId": "aa16a5fb-9a6e-4f46-fe00-7e0e6b4dd5bc",
        "colab": {
          "base_uri": "https://localhost:8080/",
          "height": 51
        }
      },
      "source": [
        "# Podemos evaluar la no igualdad con \"!=\" (es distinto de)\n",
        "3 != 2\n",
        "3 != 2+1\n",
        "\n",
        "\n",
        "#NOTA: Podemos asignar con la flechita en los dos sentidos\n",
        "1+6 -> nueva\n",
        "# es lo mismo que: nueva <- 1+6"
      ],
      "execution_count": 13,
      "outputs": [
        {
          "output_type": "display_data",
          "data": {
            "text/plain": [
              "[1] TRUE"
            ],
            "text/latex": "TRUE",
            "text/markdown": "TRUE",
            "text/html": [
              "TRUE"
            ]
          },
          "metadata": {}
        },
        {
          "output_type": "display_data",
          "data": {
            "text/plain": [
              "[1] FALSE"
            ],
            "text/latex": "FALSE",
            "text/markdown": "FALSE",
            "text/html": [
              "FALSE"
            ]
          },
          "metadata": {}
        }
      ]
    },
    {
      "cell_type": "code",
      "metadata": {
        "id": "crOp1-6HySNP",
        "outputId": "2ab6aca1-c99d-4dd0-d90c-1c712689859f",
        "colab": {
          "base_uri": "https://localhost:8080/",
          "height": 68
        }
      },
      "source": [
        "# podemos realizar comparaciones aritméticas\n",
        " 3 < 9\n",
        "3 <= 3\n",
        "3 > 8"
      ],
      "execution_count": 17,
      "outputs": [
        {
          "output_type": "display_data",
          "data": {
            "text/plain": [
              "[1] TRUE"
            ],
            "text/latex": "TRUE",
            "text/markdown": "TRUE",
            "text/html": [
              "TRUE"
            ]
          },
          "metadata": {}
        },
        {
          "output_type": "display_data",
          "data": {
            "text/plain": [
              "[1] TRUE"
            ],
            "text/latex": "TRUE",
            "text/markdown": "TRUE",
            "text/html": [
              "TRUE"
            ]
          },
          "metadata": {}
        },
        {
          "output_type": "display_data",
          "data": {
            "text/plain": [
              "[1] FALSE"
            ],
            "text/latex": "FALSE",
            "text/markdown": "FALSE",
            "text/html": [
              "FALSE"
            ]
          },
          "metadata": {}
        }
      ]
    },
    {
      "cell_type": "code",
      "metadata": {
        "id": "HZ9EQNrQySNS",
        "outputId": "103def19-12b3-4385-979b-29ed22586cc1",
        "colab": {
          "base_uri": "https://localhost:8080/",
          "height": 68
        }
      },
      "source": [
        "# NOTA:valor infinito\n",
        "# NOTA2: IMPORTANTE, R es \"case sensitive\", es decir R difernecia las instrucciones con mayúsculas y minúsculas.\n",
        "\n",
        "100000000+Inf\n",
        "Inf+Inf\n",
        "4/Inf"
      ],
      "execution_count": 24,
      "outputs": [
        {
          "output_type": "display_data",
          "data": {
            "text/plain": [
              "[1] Inf"
            ],
            "text/latex": "Inf",
            "text/markdown": "Inf",
            "text/html": [
              "Inf"
            ]
          },
          "metadata": {}
        },
        {
          "output_type": "display_data",
          "data": {
            "text/plain": [
              "[1] Inf"
            ],
            "text/latex": "Inf",
            "text/markdown": "Inf",
            "text/html": [
              "Inf"
            ]
          },
          "metadata": {}
        },
        {
          "output_type": "display_data",
          "data": {
            "text/plain": [
              "[1] 0"
            ],
            "text/latex": "0",
            "text/markdown": "0",
            "text/html": [
              "0"
            ]
          },
          "metadata": {}
        }
      ]
    },
    {
      "cell_type": "code",
      "metadata": {
        "id": "QV3gpnFC09Jn",
        "outputId": "6e76eefa-d46c-4da7-92a1-a7eb4adb3eb5",
        "colab": {
          "base_uri": "https://localhost:8080/",
          "height": 34
        }
      },
      "source": [
        "# date\n",
        "no_fecha <- \"2021-08-25\"\n",
        "no_fecha"
      ],
      "execution_count": 26,
      "outputs": [
        {
          "output_type": "display_data",
          "data": {
            "text/plain": [
              "[1] \"2021-08-25\""
            ],
            "text/latex": "'2021-08-25'",
            "text/markdown": "'2021-08-25'",
            "text/html": [
              "'2021-08-25'"
            ]
          },
          "metadata": {}
        }
      ]
    },
    {
      "cell_type": "code",
      "metadata": {
        "id": "DqqBsfF01SEH",
        "outputId": "f7fe0824-953a-40e0-e748-c883e993eec1",
        "colab": {
          "base_uri": "https://localhost:8080/",
          "height": 34
        }
      },
      "source": [
        "class(no_fecha)"
      ],
      "execution_count": 27,
      "outputs": [
        {
          "output_type": "display_data",
          "data": {
            "text/plain": [
              "[1] \"character\""
            ],
            "text/latex": "'character'",
            "text/markdown": "'character'",
            "text/html": [
              "'character'"
            ]
          },
          "metadata": {}
        }
      ]
    },
    {
      "cell_type": "code",
      "metadata": {
        "id": "rHNWVkeR1pXu",
        "outputId": "330b2944-3489-4c40-831e-8a3c0b631154",
        "colab": {
          "base_uri": "https://localhost:8080/",
          "height": 34
        }
      },
      "source": [
        "typeof(no_fecha)"
      ],
      "execution_count": 28,
      "outputs": [
        {
          "output_type": "display_data",
          "data": {
            "text/plain": [
              "[1] \"character\""
            ],
            "text/latex": "'character'",
            "text/markdown": "'character'",
            "text/html": [
              "'character'"
            ]
          },
          "metadata": {}
        }
      ]
    },
    {
      "cell_type": "code",
      "metadata": {
        "id": "Bc92orrG1u3R",
        "outputId": "44a6a988-2996-4a58-caf7-38fbd56f64c6",
        "colab": {
          "base_uri": "https://localhost:8080/",
          "height": 34
        }
      },
      "source": [
        "#Como convertir un string a clase Date.\n",
        "# Esta opción considera la utilización de la función as.Date() del package base (no hay que instalar nada adicional)\n",
        "\n",
        "fecha <- as.Date(no_fecha)\n",
        "fecha"
      ],
      "execution_count": 30,
      "outputs": [
        {
          "output_type": "display_data",
          "data": {
            "text/plain": [
              "[1] \"2021-08-25\""
            ],
            "text/latex": "2021-08-25",
            "text/markdown": "2021-08-25",
            "text/html": [
              "<time datetime=\"2021-08-25\">2021-08-25</time>"
            ]
          },
          "metadata": {}
        }
      ]
    },
    {
      "cell_type": "code",
      "metadata": {
        "id": "PP-I49tr2OCR",
        "outputId": "29d6723f-a4d8-4732-fe95-941e5244acca",
        "colab": {
          "base_uri": "https://localhost:8080/",
          "height": 34
        }
      },
      "source": [
        "class(fecha)"
      ],
      "execution_count": 31,
      "outputs": [
        {
          "output_type": "display_data",
          "data": {
            "text/plain": [
              "[1] \"Date\""
            ],
            "text/latex": "'Date'",
            "text/markdown": "'Date'",
            "text/html": [
              "'Date'"
            ]
          },
          "metadata": {}
        }
      ]
    },
    {
      "cell_type": "code",
      "metadata": {
        "id": "d8STtEQy2rI3",
        "outputId": "0f9f39eb-9bbf-4274-c964-f852f4a1dfdc",
        "colab": {
          "base_uri": "https://localhost:8080/",
          "height": 34
        }
      },
      "source": [
        "typeof(fecha)"
      ],
      "execution_count": 34,
      "outputs": [
        {
          "output_type": "display_data",
          "data": {
            "text/plain": [
              "[1] \"double\""
            ],
            "text/latex": "'double'",
            "text/markdown": "'double'",
            "text/html": [
              "'double'"
            ]
          },
          "metadata": {}
        }
      ]
    },
    {
      "cell_type": "code",
      "metadata": {
        "id": "C39L_0EC2QdT",
        "outputId": "009925a2-58f9-4cb6-f32f-9eb38395813a",
        "colab": {
          "base_uri": "https://localhost:8080/",
          "height": 95
        }
      },
      "source": [
        "no_fecha + 10 # por defecto suma días."
      ],
      "execution_count": 32,
      "outputs": [
        {
          "output_type": "error",
          "ename": "ERROR",
          "evalue": "ignored",
          "traceback": [
            "Error in no_fecha + 10: non-numeric argument to binary operator\nTraceback:\n"
          ]
        }
      ]
    },
    {
      "cell_type": "code",
      "metadata": {
        "id": "802ipMHR2XCi",
        "outputId": "f1ea54a2-4966-4458-a747-e7a2e71aa758",
        "colab": {
          "base_uri": "https://localhost:8080/",
          "height": 34
        }
      },
      "source": [
        "fecha + 10"
      ],
      "execution_count": 33,
      "outputs": [
        {
          "output_type": "display_data",
          "data": {
            "text/plain": [
              "[1] \"2021-09-04\""
            ],
            "text/latex": "2021-09-04",
            "text/markdown": "2021-09-04",
            "text/html": [
              "<time datetime=\"2021-09-04\">2021-09-04</time>"
            ]
          },
          "metadata": {}
        }
      ]
    },
    {
      "cell_type": "markdown",
      "metadata": {
        "id": "N_X4CPnS3Yx0"
      },
      "source": [
        "# Apéndice\n",
        "## Instalación de paquetes en R\n",
        "\n",
        "La instalación la pueden realizar con la función  `install.packages()`"
      ]
    },
    {
      "cell_type": "code",
      "metadata": {
        "id": "Pxk_AAbC2bLw",
        "outputId": "5ed81698-7976-4792-db03-9d659831a108",
        "colab": {
          "base_uri": "https://localhost:8080/"
        }
      },
      "source": [
        "install.packages(\"lubridate\")"
      ],
      "execution_count": 35,
      "outputs": [
        {
          "output_type": "stream",
          "text": [
            "Installing package into ‘/usr/local/lib/R/site-library’\n",
            "(as ‘lib’ is unspecified)\n",
            "\n"
          ],
          "name": "stderr"
        }
      ]
    },
    {
      "cell_type": "markdown",
      "metadata": {
        "id": "IhvFIgu634eV"
      },
      "source": [
        "## Carga de un paquete a la sesión\n",
        "La carga de un paquete se puede realizar mediante la función `library()`. También , otra alternativa es `require()`."
      ]
    },
    {
      "cell_type": "code",
      "metadata": {
        "id": "qHslbI5q34BV",
        "outputId": "907ded6b-b0d2-42e9-a4e9-8dff66a29b71",
        "colab": {
          "base_uri": "https://localhost:8080/"
        }
      },
      "source": [
        "library(\"lubridate\")"
      ],
      "execution_count": 36,
      "outputs": [
        {
          "output_type": "stream",
          "text": [
            "Warning message in system(\"timedatectl\", intern = TRUE):\n",
            "“running command 'timedatectl' had status 1”\n",
            "\n",
            "Attaching package: ‘lubridate’\n",
            "\n",
            "\n",
            "The following objects are masked from ‘package:base’:\n",
            "\n",
            "    date, intersect, setdiff, union\n",
            "\n",
            "\n"
          ],
          "name": "stderr"
        }
      ]
    },
    {
      "cell_type": "code",
      "metadata": {
        "id": "c-3snh4n307p"
      },
      "source": [
        "## Si se quiere explicitar el origen de una función\n",
        "\n",
        "base::setdiff() # llamamos a setdiff de base\n",
        "lubridate::setdiff() # llamamos a setdiff de lubridate"
      ],
      "execution_count": null,
      "outputs": []
    },
    {
      "cell_type": "code",
      "metadata": {
        "id": "98AIX2J04qEK",
        "outputId": "5aa03465-b11d-4964-f7f4-44b00f52c5fe",
        "colab": {
          "base_uri": "https://localhost:8080/",
          "height": 51
        }
      },
      "source": [
        "fecha\n",
        "fecha %m+% months(1)"
      ],
      "execution_count": 45,
      "outputs": [
        {
          "output_type": "display_data",
          "data": {
            "text/plain": [
              "[1] \"2021-08-25\""
            ],
            "text/latex": "2021-08-25",
            "text/markdown": "2021-08-25",
            "text/html": [
              "<time datetime=\"2021-08-25\">2021-08-25</time>"
            ]
          },
          "metadata": {}
        },
        {
          "output_type": "display_data",
          "data": {
            "text/plain": [
              "[1] \"2021-09-25\""
            ],
            "text/latex": "2021-09-25",
            "text/markdown": "2021-09-25",
            "text/html": [
              "<time datetime=\"2021-09-25\">2021-09-25</time>"
            ]
          },
          "metadata": {}
        }
      ]
    },
    {
      "cell_type": "code",
      "metadata": {
        "id": "7GlQiWw05KKq",
        "outputId": "84ee2434-ab06-4611-93bc-300767a60cf0",
        "colab": {
          "base_uri": "https://localhost:8080/",
          "height": 34
        }
      },
      "source": [
        "month(fecha) # month() es función de lubridate"
      ],
      "execution_count": 46,
      "outputs": [
        {
          "output_type": "display_data",
          "data": {
            "text/plain": [
              "[1] 8"
            ],
            "text/latex": "8",
            "text/markdown": "8",
            "text/html": [
              "8"
            ]
          },
          "metadata": {}
        }
      ]
    },
    {
      "cell_type": "code",
      "metadata": {
        "id": "8Q6KRDht5jWw",
        "outputId": "54e41fe1-7049-46aa-974f-fd1dc41e44ea",
        "colab": {
          "base_uri": "https://localhost:8080/",
          "height": 34
        }
      },
      "source": [
        "day(fecha) # day() es función de lubridate"
      ],
      "execution_count": 48,
      "outputs": [
        {
          "output_type": "display_data",
          "data": {
            "text/plain": [
              "[1] 25"
            ],
            "text/latex": "25",
            "text/markdown": "25",
            "text/html": [
              "25"
            ]
          },
          "metadata": {}
        }
      ]
    },
    {
      "cell_type": "code",
      "metadata": {
        "id": "4-UCatSZ5IdP",
        "outputId": "a57243d0-b589-4c72-a5df-dd82e43b9be7",
        "colab": {
          "base_uri": "https://localhost:8080/",
          "height": 34
        }
      },
      "source": [
        "year(fecha) # year() es función de lubridate"
      ],
      "execution_count": 49,
      "outputs": [
        {
          "output_type": "display_data",
          "data": {
            "text/plain": [
              "[1] 2021"
            ],
            "text/latex": "2021",
            "text/markdown": "2021",
            "text/html": [
              "2021"
            ]
          },
          "metadata": {}
        }
      ]
    },
    {
      "cell_type": "code",
      "metadata": {
        "id": "IuoyidKOySNn"
      },
      "source": [
        "# Observación: Inmutabilidad de variables en R.\n",
        "\n",
        "x <- 10\n",
        "y <- x\n",
        "\n"
      ],
      "execution_count": 50,
      "outputs": []
    },
    {
      "cell_type": "code",
      "metadata": {
        "id": "Ctn_9m_P9Gaj",
        "outputId": "c2051506-da6d-42d6-ef9f-546b619ad9fb",
        "colab": {
          "base_uri": "https://localhost:8080/",
          "height": 51
        }
      },
      "source": [
        "x\n",
        "y"
      ],
      "execution_count": 51,
      "outputs": [
        {
          "output_type": "display_data",
          "data": {
            "text/plain": [
              "[1] 10"
            ],
            "text/latex": "10",
            "text/markdown": "10",
            "text/html": [
              "10"
            ]
          },
          "metadata": {}
        },
        {
          "output_type": "display_data",
          "data": {
            "text/plain": [
              "[1] 10"
            ],
            "text/latex": "10",
            "text/markdown": "10",
            "text/html": [
              "10"
            ]
          },
          "metadata": {}
        }
      ]
    },
    {
      "cell_type": "code",
      "metadata": {
        "id": "LYhBsNyK9JL1"
      },
      "source": [
        "x <- 11"
      ],
      "execution_count": 52,
      "outputs": []
    },
    {
      "cell_type": "code",
      "metadata": {
        "id": "9Fao-xGlySNr",
        "outputId": "bf946aec-9458-44ee-f433-92eb565eb008",
        "colab": {
          "base_uri": "https://localhost:8080/",
          "height": 51
        }
      },
      "source": [
        "# ¿Qué valor tiene y?\n",
        "y\n",
        "y <- x\n",
        "y\n",
        "\n",
        "\n",
        "# en R las asignaciones por defecto se realizan por valor y no por referencia. \n",
        "\n",
        "\n",
        "\n"
      ],
      "execution_count": 54,
      "outputs": [
        {
          "output_type": "display_data",
          "data": {
            "text/plain": [
              "[1] 10"
            ],
            "text/latex": "10",
            "text/markdown": "10",
            "text/html": [
              "10"
            ]
          },
          "metadata": {}
        },
        {
          "output_type": "display_data",
          "data": {
            "text/plain": [
              "[1] 11"
            ],
            "text/latex": "11",
            "text/markdown": "11",
            "text/html": [
              "11"
            ]
          },
          "metadata": {}
        }
      ]
    },
    {
      "cell_type": "markdown",
      "metadata": {
        "id": "tDPGo6PyySNu"
      },
      "source": [
        "### Observación:\n",
        "\n",
        "   1. Cada vez que se define una variable en R, esta queda almacenada en memoria. Una manera de limpiar las variables que se han definido en memoria, es a través de la función rm().\n",
        "   2. Documentación de R. Cada vez que se quiera acceder a la documentación de una librería o función en particular, se puede tipear \"?\" o \"help()\".\n",
        "   3. Cada vez que se define una nueva variable con el mismo nombre, esta simplemente actualiza su valor.\n",
        "    "
      ]
    },
    {
      "cell_type": "code",
      "metadata": {
        "id": "EHevI0LlySNv",
        "outputId": "4d60eb36-9113-43ae-99fe-953a035c517a",
        "colab": {
          "base_uri": "https://localhost:8080/",
          "height": 34
        }
      },
      "source": [
        "ls() # retorna un vector con los nombres de todas las variables definidas en el ambiente\n"
      ],
      "execution_count": 55,
      "outputs": [
        {
          "output_type": "display_data",
          "data": {
            "text/plain": [
              " [1] \"a\"               \"b\"               \"falso\"           \"fecha\"          \n",
              " [5] \"fecha_de_lubrdt\" \"no_fecha\"        \"nueva\"           \"p1\"             \n",
              " [9] \"verdad\"          \"x\"               \"y\"              "
            ],
            "text/latex": "\\begin{enumerate*}\n\\item 'a'\n\\item 'b'\n\\item 'falso'\n\\item 'fecha'\n\\item 'fecha\\_de\\_lubrdt'\n\\item 'no\\_fecha'\n\\item 'nueva'\n\\item 'p1'\n\\item 'verdad'\n\\item 'x'\n\\item 'y'\n\\end{enumerate*}\n",
            "text/markdown": "1. 'a'\n2. 'b'\n3. 'falso'\n4. 'fecha'\n5. 'fecha_de_lubrdt'\n6. 'no_fecha'\n7. 'nueva'\n8. 'p1'\n9. 'verdad'\n10. 'x'\n11. 'y'\n\n\n",
            "text/html": [
              "<style>\n",
              ".list-inline {list-style: none; margin:0; padding: 0}\n",
              ".list-inline>li {display: inline-block}\n",
              ".list-inline>li:not(:last-child)::after {content: \"\\00b7\"; padding: 0 .5ex}\n",
              "</style>\n",
              "<ol class=list-inline><li>'a'</li><li>'b'</li><li>'falso'</li><li>'fecha'</li><li>'fecha_de_lubrdt'</li><li>'no_fecha'</li><li>'nueva'</li><li>'p1'</li><li>'verdad'</li><li>'x'</li><li>'y'</li></ol>\n"
            ]
          },
          "metadata": {}
        }
      ]
    },
    {
      "cell_type": "code",
      "metadata": {
        "id": "UJq0dPSIySNx"
      },
      "source": [
        "# remueva algunas de las variables generadas anteriormente\n",
        "rm(fecha)"
      ],
      "execution_count": 56,
      "outputs": []
    },
    {
      "cell_type": "code",
      "metadata": {
        "id": "2vDu5yeN-Yg5",
        "outputId": "d061ca64-5715-417e-d431-6c63b55551ad",
        "colab": {
          "base_uri": "https://localhost:8080/",
          "height": 95
        }
      },
      "source": [
        "fecha"
      ],
      "execution_count": 57,
      "outputs": [
        {
          "output_type": "error",
          "ename": "ERROR",
          "evalue": "ignored",
          "traceback": [
            "Error in eval(expr, envir, enclos): object 'fecha' not found\nTraceback:\n"
          ]
        }
      ]
    },
    {
      "cell_type": "code",
      "metadata": {
        "id": "KG_TSP3g-eVm"
      },
      "source": [
        "# Podemos remover más de una variable\n",
        "rm(list = c(\"p1\",\"nueva\",\"verdad\"))"
      ],
      "execution_count": 59,
      "outputs": []
    },
    {
      "cell_type": "code",
      "metadata": {
        "id": "BdbADTkx-8TM",
        "outputId": "ab3413f7-6853-45fa-f212-47472638c38b",
        "colab": {
          "base_uri": "https://localhost:8080/",
          "height": 34
        }
      },
      "source": [
        "ls()"
      ],
      "execution_count": 60,
      "outputs": [
        {
          "output_type": "display_data",
          "data": {
            "text/plain": [
              "[1] \"a\"               \"b\"               \"falso\"           \"fecha_de_lubrdt\"\n",
              "[5] \"no_fecha\"        \"x\"               \"y\"              "
            ],
            "text/latex": "\\begin{enumerate*}\n\\item 'a'\n\\item 'b'\n\\item 'falso'\n\\item 'fecha\\_de\\_lubrdt'\n\\item 'no\\_fecha'\n\\item 'x'\n\\item 'y'\n\\end{enumerate*}\n",
            "text/markdown": "1. 'a'\n2. 'b'\n3. 'falso'\n4. 'fecha_de_lubrdt'\n5. 'no_fecha'\n6. 'x'\n7. 'y'\n\n\n",
            "text/html": [
              "<style>\n",
              ".list-inline {list-style: none; margin:0; padding: 0}\n",
              ".list-inline>li {display: inline-block}\n",
              ".list-inline>li:not(:last-child)::after {content: \"\\00b7\"; padding: 0 .5ex}\n",
              "</style>\n",
              "<ol class=list-inline><li>'a'</li><li>'b'</li><li>'falso'</li><li>'fecha_de_lubrdt'</li><li>'no_fecha'</li><li>'x'</li><li>'y'</li></ol>\n"
            ]
          },
          "metadata": {}
        }
      ]
    },
    {
      "cell_type": "code",
      "metadata": {
        "id": "Jchgtsg2_AWq"
      },
      "source": [
        "# si quieren eliminar todas las variables del ambiemte global\n",
        "rm(list = ls())"
      ],
      "execution_count": 61,
      "outputs": []
    },
    {
      "cell_type": "code",
      "metadata": {
        "id": "dZdAPIy9_It2",
        "outputId": "90cfab69-2050-4edd-e997-bdb09ae9fad7",
        "colab": {
          "base_uri": "https://localhost:8080/",
          "height": 17
        }
      },
      "source": [
        "ls()"
      ],
      "execution_count": 62,
      "outputs": [
        {
          "output_type": "display_data",
          "data": {
            "text/plain": [
              "character(0)"
            ],
            "text/latex": "",
            "text/markdown": "",
            "text/html": [
              ""
            ]
          },
          "metadata": {}
        }
      ]
    },
    {
      "cell_type": "markdown",
      "metadata": {
        "id": "qVG7GGScySN5"
      },
      "source": [
        "### 2.1. Missing values\n",
        "\n",
        "En R, existen tipos de datos especiales para caracterizar la ausencia o la no definición de una variable. Los valores especiales que maneja R son NA, NaN, Inf, -Inf. "
      ]
    },
    {
      "cell_type": "code",
      "metadata": {
        "id": "o60_IFkbySN5",
        "outputId": "91862355-ef87-4304-e76e-e24f1e695262",
        "colab": {
          "base_uri": "https://localhost:8080/",
          "height": 51
        }
      },
      "source": [
        "# 2.1. Missing Values ------------\n",
        "# Acá se explica la diferencia entre ellos y cómo reconocerlos.\n",
        "NA # Not Avaiblable\n",
        "NaN # Not a Number\n",
        "\n",
        "\n"
      ],
      "execution_count": 64,
      "outputs": [
        {
          "output_type": "display_data",
          "data": {
            "text/plain": [
              "[1] NA"
            ],
            "text/latex": "<NA>",
            "text/markdown": "&lt;NA&gt;",
            "text/html": [
              "&lt;NA&gt;"
            ]
          },
          "metadata": {}
        },
        {
          "output_type": "display_data",
          "data": {
            "text/plain": [
              "[1] NaN"
            ],
            "text/latex": "NaN",
            "text/markdown": "NaN",
            "text/html": [
              "NaN"
            ]
          },
          "metadata": {}
        }
      ]
    },
    {
      "cell_type": "code",
      "metadata": {
        "id": "P8u4HWVE_nJ8",
        "outputId": "f8af340e-032f-4056-ab04-ff905fafdd92",
        "colab": {
          "base_uri": "https://localhost:8080/",
          "height": 34
        }
      },
      "source": [
        "30 == 30"
      ],
      "execution_count": 65,
      "outputs": [
        {
          "output_type": "display_data",
          "data": {
            "text/plain": [
              "[1] TRUE"
            ],
            "text/latex": "TRUE",
            "text/markdown": "TRUE",
            "text/html": [
              "TRUE"
            ]
          },
          "metadata": {}
        }
      ]
    },
    {
      "cell_type": "code",
      "metadata": {
        "id": "GLfUyPuO_z73",
        "outputId": "5b767fa8-48b4-4334-9aa7-61cfca7d59ba",
        "colab": {
          "base_uri": "https://localhost:8080/",
          "height": 34
        }
      },
      "source": [
        "NA == NA"
      ],
      "execution_count": 66,
      "outputs": [
        {
          "output_type": "display_data",
          "data": {
            "text/plain": [
              "[1] NA"
            ],
            "text/latex": "<NA>",
            "text/markdown": "&lt;NA&gt;",
            "text/html": [
              "&lt;NA&gt;"
            ]
          },
          "metadata": {}
        }
      ]
    },
    {
      "cell_type": "code",
      "metadata": {
        "id": "XBe1RZA2_8t9",
        "outputId": "c7357532-7df3-4dc7-b321-e90aca600021",
        "colab": {
          "base_uri": "https://localhost:8080/",
          "height": 34
        }
      },
      "source": [
        "4 == NA"
      ],
      "execution_count": 67,
      "outputs": [
        {
          "output_type": "display_data",
          "data": {
            "text/plain": [
              "[1] NA"
            ],
            "text/latex": "<NA>",
            "text/markdown": "&lt;NA&gt;",
            "text/html": [
              "&lt;NA&gt;"
            ]
          },
          "metadata": {}
        }
      ]
    },
    {
      "cell_type": "code",
      "metadata": {
        "id": "_rbLuRSOZ7pM",
        "outputId": "426892b5-67b1-4f41-d613-34c91287bb58",
        "colab": {
          "base_uri": "https://localhost:8080/",
          "height": 51
        }
      },
      "source": [
        "# para identificar un valor NA o NaN podemos utilizar la función is.na\n",
        "\n",
        "is.na(4)\n",
        "is.na(NA)"
      ],
      "execution_count": 69,
      "outputs": [
        {
          "output_type": "display_data",
          "data": {
            "text/plain": [
              "[1] FALSE"
            ],
            "text/latex": "FALSE",
            "text/markdown": "FALSE",
            "text/html": [
              "FALSE"
            ]
          },
          "metadata": {}
        },
        {
          "output_type": "display_data",
          "data": {
            "text/plain": [
              "[1] TRUE"
            ],
            "text/latex": "TRUE",
            "text/markdown": "TRUE",
            "text/html": [
              "TRUE"
            ]
          },
          "metadata": {}
        }
      ]
    },
    {
      "cell_type": "code",
      "metadata": {
        "id": "wEjFmeKmAUcS",
        "outputId": "e68bf9fb-c277-4b21-d689-b76b6004f412",
        "colab": {
          "base_uri": "https://localhost:8080/",
          "height": 51
        }
      },
      "source": [
        "is.nan(NA)\n",
        "is.nan(NaN)"
      ],
      "execution_count": 71,
      "outputs": [
        {
          "output_type": "display_data",
          "data": {
            "text/plain": [
              "[1] FALSE"
            ],
            "text/latex": "FALSE",
            "text/markdown": "FALSE",
            "text/html": [
              "FALSE"
            ]
          },
          "metadata": {}
        },
        {
          "output_type": "display_data",
          "data": {
            "text/plain": [
              "[1] TRUE"
            ],
            "text/latex": "TRUE",
            "text/markdown": "TRUE",
            "text/html": [
              "TRUE"
            ]
          },
          "metadata": {}
        }
      ]
    },
    {
      "cell_type": "code",
      "metadata": {
        "id": "X1ybb3shAZ7s",
        "outputId": "6c5a7095-2f94-4d48-b765-d7ff478bd860",
        "colab": {
          "base_uri": "https://localhost:8080/",
          "height": 34
        }
      },
      "source": [
        "0/0"
      ],
      "execution_count": 72,
      "outputs": [
        {
          "output_type": "display_data",
          "data": {
            "text/plain": [
              "[1] NaN"
            ],
            "text/latex": "NaN",
            "text/markdown": "NaN",
            "text/html": [
              "NaN"
            ]
          },
          "metadata": {}
        }
      ]
    }
  ]
}