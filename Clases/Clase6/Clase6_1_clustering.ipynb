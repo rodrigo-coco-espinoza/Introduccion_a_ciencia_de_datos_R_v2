{
  "nbformat": 4,
  "nbformat_minor": 0,
  "metadata": {
    "colab": {
      "name": "Clase6_1_clustering.ipynb",
      "provenance": [],
      "collapsed_sections": [],
      "authorship_tag": "ABX9TyO5hqV0719BEyDnl1GrAwxs",
      "include_colab_link": true
    },
    "kernelspec": {
      "name": "ir",
      "display_name": "R"
    }
  },
  "cells": [
    {
      "cell_type": "markdown",
      "metadata": {
        "id": "view-in-github",
        "colab_type": "text"
      },
      "source": [
        "<a href=\"https://colab.research.google.com/github/majorquev/Introduccion_a_ciencia_de_datos_R_v2/blob/main/Clases/Clase6/Clase6_1_clustering.ipynb\" target=\"_parent\"><img src=\"https://colab.research.google.com/assets/colab-badge.svg\" alt=\"Open In Colab\"/></a>"
      ]
    },
    {
      "cell_type": "markdown",
      "metadata": {
        "id": "A6_jwunupA1k"
      },
      "source": [
        "# Parte 5: Clustering\n",
        "\n",
        "\n",
        "**Autor:** Miguel Jorquera Viguera<br>\n",
        "**E-mail:** majorquev@gmail.com<br>\n",
        "**Ayudante:** Rodrigo Morales Méndez<br>\n",
        "**E-mail ayudante:** rumorale1@gmail.com\n",
        "\n",
        "\n",
        "\n",
        "Las los algoritmos de clustering corresponden a métodos no supervisados que buscan identificar estructuras de grupos dentro de un conjunto de datos. Dentro de los métodos más comunes, destacan aquellos basados en similitud, donde obervaciones que pertenecen a un mismo cluster son similares entre sí (grupos homogéneos), pero distintas a las observaciones de los otro clusters. \n",
        "\n",
        "Dentro de los distintos métodos destacan:\n",
        "\n",
        "\n",
        "  * Enfoque de particiones \n",
        "    * K-means, k-medioids, CLARANS \n",
        "  * Enfoque jerárquico\n",
        "    * Diana, Agnes, BIRCH, CAMELEON\n",
        "  * Enfoque basado en densidad\n",
        "    * DBSCAN, OPTICS, DenClue\n",
        "\n",
        "A continuación se muestra la implementación de algunos de estos algoritmosen R, para mayor información refiérsa a la documentación de la clase y a las referencias citadas.\n",
        "\n",
        "\n"
      ]
    },
    {
      "cell_type": "markdown",
      "metadata": {
        "id": "AU0cbuKUrDmJ"
      },
      "source": [
        "## Algoritmo k-means\n",
        "\n"
      ]
    },
    {
      "cell_type": "code",
      "metadata": {
        "id": "LhQbSlOKsBO9"
      },
      "source": [
        "\n",
        "# K-Means\n",
        "# Se define el nombre de la base de datos IRIS borrando la variable en donde \n",
        "# figura el verdadero nombre de la planta definida por cada fila\n",
        "\n",
        "data(iris)\n",
        "iris\n",
        "\n",
        "dplyr::count(iris,Species)\n"
      ],
      "execution_count": null,
      "outputs": []
    },
    {
      "cell_type": "code",
      "metadata": {
        "id": "DFx7-nrSnniC"
      },
      "source": [
        "base <- iris\n",
        "base$Species <- NULL\n",
        "head(base)"
      ],
      "execution_count": null,
      "outputs": []
    },
    {
      "cell_type": "code",
      "metadata": {
        "id": "rM-z2UEfsHOf"
      },
      "source": [
        "# Se genera la clusterización con k medias con la siguiente estructura: \n",
        "# kmeans(datos, numero de clusters que se quiere obtener) # se recomienda nstart > 1\n",
        "\n",
        "kmeans.resultado <- kmeans(base, centers = 3, nstart = 10 )\n",
        "\n"
      ],
      "execution_count": null,
      "outputs": []
    },
    {
      "cell_type": "markdown",
      "metadata": {
        "id": "hhWtsmpkus9c"
      },
      "source": [
        "Hasta aquí llegó el algoritmo, pero algunas preguntas de interés que buscamos abordar a continuación.\n",
        "\n",
        "* ¿Cómo podemos visualizar la clusterización realizada?\n",
        "* ¿Que más podemos hacer además identificar los grupos generados? \n",
        "* ¿porqué escogimos 3 grupos? y ¿Cómo podemos  determinar el número óptimo de clusters?"
      ]
    },
    {
      "cell_type": "code",
      "metadata": {
        "id": "684pmeMAti7-"
      },
      "source": [
        "str(kmeans.resultado)\n",
        "kmeans.resultado$cluster\n",
        "\n",
        "base$cl_kmens <- kmeans.resultado$cluster\n",
        "base\n",
        "dplyr::count(base,cl_kmens)\n"
      ],
      "execution_count": null,
      "outputs": []
    },
    {
      "cell_type": "code",
      "metadata": {
        "id": "BZ5w27zusHUN"
      },
      "source": [
        "\n",
        "kmeans.resultado$cluster # el cluster asignado a cada observación de base.\n",
        "kmeans.resultado$centers # Que representan estos centroides?\n"
      ],
      "execution_count": null,
      "outputs": []
    },
    {
      "cell_type": "code",
      "metadata": {
        "id": "aY1aZ6HCpXhS"
      },
      "source": [
        "\n",
        "# Se contrasta la clasificacion real con la definida despues de la clusterizacion\n",
        "table(iris$Species, kmeans.resultado$cluster)\n",
        "plot(base[c(\"Sepal.Length\", \"Sepal.Width\")], col = kmeans.resultado$cluster)\n",
        "# Se grafica los centros de los clusters \n",
        "points(kmeans.resultado$centers[,c(\"Sepal.Length\", \"Sepal.Width\")], col = 1:3, pch = 8, cex=2)\n",
        "\n",
        "\n"
      ],
      "execution_count": null,
      "outputs": []
    },
    {
      "cell_type": "code",
      "metadata": {
        "id": "xVuy9FZXczgY"
      },
      "source": [
        "# Con ggplot \n",
        "# Agregar columna a iris con los clusters\n",
        "# guardar en un **data.frame** los centros y agregar columna con colores "
      ],
      "execution_count": null,
      "outputs": []
    },
    {
      "cell_type": "code",
      "metadata": {
        "id": "0sV8xS8_sHay"
      },
      "source": [
        "\n",
        "# Se calcula la distancia entre cada observación y los centroides de los clusters\n",
        "\n",
        "centroides <- kmeans.resultado$centers[kmeans.resultado$cluster, ]\n",
        "head(centroides)\n",
        "distancias <- sqrt(rowSums((base - centroides)^2))\n",
        "distancias"
      ],
      "execution_count": null,
      "outputs": []
    },
    {
      "cell_type": "code",
      "metadata": {
        "id": "2_4McwabsHfe"
      },
      "source": [
        "\n",
        "# Se ordenan los registros con mayor distancia a sus respectivos centroides y se toman los top 5\n",
        "\n",
        "outliers <- order(distancias, decreasing=T)[1:5]\n",
        "\n",
        "# Cuales son los outliers\n",
        "\n",
        "print(outliers)\n",
        "print(base[outliers,])\n",
        "\n"
      ],
      "execution_count": null,
      "outputs": []
    },
    {
      "cell_type": "code",
      "metadata": {
        "id": "JBo71PrXsHm7"
      },
      "source": [
        "# Se grafican los clusters\n",
        "plot(base[,c(\"Sepal.Length\", \"Sepal.Width\")], pch=\"o\", col=kmeans.resultado$cluster, cex=0.3)\n",
        "#Se marcan los centroides de los clusters\n",
        "points(kmeans.resultado$centers[,c(\"Sepal.Length\", \"Sepal.Width\")], col=1:3, pch=8, cex=1.5)\n",
        "\n",
        "\n"
      ],
      "execution_count": null,
      "outputs": []
    },
    {
      "cell_type": "code",
      "metadata": {
        "id": "PAw88G_-sHr1"
      },
      "source": [
        "# Se grafican los outliers\n",
        "plot(base[,c(\"Sepal.Length\", \"Sepal.Width\")], pch=\"o\", col=kmeans.resultado$cluster, cex=0.3)\n",
        "points(kmeans.resultado$centers[,c(\"Sepal.Length\", \"Sepal.Width\")], col=1:3, pch=8, cex=1.5)\n",
        "points(base[outliers, c(\"Sepal.Length\", \"Sepal.Width\")], pch=\"+\", col=4, cex=1.5)\n"
      ],
      "execution_count": null,
      "outputs": []
    },
    {
      "cell_type": "markdown",
      "metadata": {
        "id": "_3cNed7TvQry"
      },
      "source": [
        " ## Número de clusters\n",
        "\n",
        " Una de las opciones más utilizadas es la regla del \"codo\". Otra manera es estudiando el ancho de \"silueta\" de cada observación."
      ]
    },
    {
      "cell_type": "code",
      "metadata": {
        "id": "asWh8GE2tkl0"
      },
      "source": [
        "names(base)\n",
        "base$cl_kmens <- NULL"
      ],
      "execution_count": null,
      "outputs": []
    },
    {
      "cell_type": "code",
      "metadata": {
        "id": "t7NrwZ8mtqkS"
      },
      "source": [
        "names(base)"
      ],
      "execution_count": null,
      "outputs": []
    },
    {
      "cell_type": "code",
      "metadata": {
        "id": "rrmGExsVv05A"
      },
      "source": [
        "# Generar un ciclo for que implemente el algoritmo kmeans con centros 2:50\n",
        "# En cada iteración rescatar el total within sum squares (twss) y guardar dicho resultado en un dataframe\n",
        "centros <- 2:50\n",
        "twss_df <- data.frame()\n",
        "\n",
        "\n",
        "\n",
        "\n",
        "\n",
        "\n",
        "\n"
      ],
      "execution_count": null,
      "outputs": []
    },
    {
      "cell_type": "code",
      "metadata": {
        "id": "iwsHYzBsuQQT"
      },
      "source": [
        "# Graficar\n"
      ],
      "execution_count": null,
      "outputs": []
    },
    {
      "cell_type": "markdown",
      "metadata": {
        "id": "ys6QD50Uv0U3"
      },
      "source": [
        "## **NOTA:** Escala de datos \n",
        "En ocasiones, cuando cada variable (columna) de nuestro set de datos tienen diferentes escala de datos (por ejemplo una columna con valores entre 0 y 1 , mientras que otra columna está en escala de 10 a 1000, ciertos algoritmos son suceptibles a dichas escalas, por tanto se recomienda escalar nuestra matriz de datos.\n",
        "\n",
        "Cuando nos referimos a escalar, es equivalente a generar columnas con igual media y varianza, usualmente media 0 y desv. estándar 1. Esto lo podemos lograr con la función `scale()`"
      ]
    },
    {
      "cell_type": "markdown",
      "metadata": {
        "id": "pygPNJFZv0K1"
      },
      "source": [
        "# Cluster jerárquico\n"
      ]
    },
    {
      "cell_type": "markdown",
      "metadata": {
        "id": "H2tJJgjov4NT"
      },
      "source": [
        "Para ajustar un cluster jerárquico, en R contamos con la función `hclust()`"
      ]
    },
    {
      "cell_type": "code",
      "metadata": {
        "id": "ImSnAUjFsHpg"
      },
      "source": [
        "library(ggplot2)\n",
        "## Clústers  jerárquicos\n",
        "muestraIris <- iris\n",
        "muestraIris$Species <- NULL\n",
        "\n",
        "\n",
        "## Cluster aglomerativo\n",
        "# Se genera el cluster aglomerativo con linkage completo.\n",
        "\n",
        "hc <- hclust(dist(muestraIris), method=\"average\")\n"
      ],
      "execution_count": null,
      "outputs": []
    },
    {
      "cell_type": "code",
      "metadata": {
        "id": "I2BGQJpPsHkY"
      },
      "source": [
        "\n",
        "plot(hc, \n",
        "     hang   = -1, #posición inicio dendograma\n",
        "     labels = iris$Species,\n",
        "     cex    = .6)\n",
        "\n"
      ],
      "execution_count": null,
      "outputs": []
    },
    {
      "cell_type": "code",
      "metadata": {
        "id": "-7YADxf4sHc_"
      },
      "source": [
        "\n",
        "# Finalmente  se corta el dendograma en K clusters\n",
        "K <- 5\n",
        "\n",
        "plot(hc, hang = -1, labels=iris$Species)\n",
        "rect.hclust(hc, k=K)\n"
      ],
      "execution_count": null,
      "outputs": []
    },
    {
      "cell_type": "code",
      "metadata": {
        "id": "dd1HIatgsHYr"
      },
      "source": [
        "groups <- cutree(hc, k=K)\n",
        "\n",
        "plot(iris[,c(\"Sepal.Length\", \"Sepal.Width\")], col = groups)\n",
        "\n"
      ],
      "execution_count": null,
      "outputs": []
    },
    {
      "cell_type": "code",
      "metadata": {
        "id": "nWGMbrtRsHRT"
      },
      "source": [
        "\n",
        "# gráfico de siluetas  ----------------------------------------------------\n",
        "plot(cluster::silhouette(groups,dist(muestraIris))) \n",
        "\n",
        "sil <- cluster::silhouette(groups,dist(muestraIris))\n",
        "\n",
        "\n",
        "str(sil)\n",
        "mean(sil[,3])"
      ],
      "execution_count": null,
      "outputs": []
    },
    {
      "cell_type": "markdown",
      "metadata": {
        "id": "hD7xXTxGxUgM"
      },
      "source": [
        "## DBSCAN"
      ]
    },
    {
      "cell_type": "code",
      "metadata": {
        "id": "OG8T5HyHzitN"
      },
      "source": [
        "#install.packages(\"dbscan\")\n",
        "#install.packages(\"mlbench\")"
      ],
      "execution_count": null,
      "outputs": []
    },
    {
      "cell_type": "code",
      "metadata": {
        "id": "88039ulSzpyo"
      },
      "source": [
        "library(dbscan)\n",
        "library(mlbench)"
      ],
      "execution_count": null,
      "outputs": []
    },
    {
      "cell_type": "code",
      "metadata": {
        "id": "vnZsYhreq6Bf"
      },
      "source": [
        "# iris --------------------------------------------------------------------\n",
        "data(iris)\n",
        "iris <- as.matrix(iris[,1:4])\n",
        "\n",
        "## find suitable eps parameter using a k-NN plot for k = dim + 1\n",
        "## Look for the knee!\n",
        "\n",
        "minPts <- 4+1\n",
        "\n",
        "kNNdistplot(iris, k = minPts)\n",
        "abline(h=.6, col = \"red\", lty=2)\n",
        "\n"
      ],
      "execution_count": null,
      "outputs": []
    },
    {
      "cell_type": "code",
      "metadata": {
        "id": "KPhYQGkU0Y1J"
      },
      "source": [
        "###### Es lo mismo que \n",
        "sort(kNNdist(iris, k = minPts)) -> distancias_knn\n",
        "\n",
        "plot(distancias_knn,type = \"l\")\n",
        "abline( h =.6, col = \"red\", lty=2)\n",
        "######\n"
      ],
      "execution_count": null,
      "outputs": []
    },
    {
      "cell_type": "code",
      "metadata": {
        "id": "7ksWNu0F0al9"
      },
      "source": [
        "res <- dbscan(iris, eps = .4, minPts = minPts)\n",
        "res\n",
        "\n",
        "pairs(iris, col = res$cluster + 1L)\n",
        "\n"
      ],
      "execution_count": null,
      "outputs": []
    },
    {
      "cell_type": "code",
      "metadata": {
        "id": "j9koj8G-zvZL"
      },
      "source": [
        "# espiral -----------------------------------------------------------------\n",
        "set.seed(666)\n",
        "spiral <- mlbench.spirals(6000, 1, sd = 0.06)\n",
        "spiral <- cbind(spiral$x, label = spiral$classes)\n",
        "colnames(spiral)[c(1, 2)] <- c(\"x1\", \"x2\")\n",
        "spiral <- as.data.frame(spiral)\n",
        "spiral$label <- factor(spiral$label)\n",
        "\n",
        "\n",
        "\n",
        "ggplot(spiral) + \n",
        "  aes(x = x1, y = x2) + \n",
        "  geom_point()\n"
      ],
      "execution_count": null,
      "outputs": []
    },
    {
      "cell_type": "code",
      "metadata": {
        "id": "CdsX6rxczxV3"
      },
      "source": [
        "minPts <- 6\n",
        "\n",
        "kNNdistplot(spiral[,1:2], k = minPts)\n",
        "#abline(h=.04, col = \"red\", lty = 2)\n",
        "\n"
      ],
      "execution_count": null,
      "outputs": []
    },
    {
      "cell_type": "code",
      "metadata": {
        "id": "BdBPPvPOz4dR"
      },
      "source": [
        "eps <- 0.04\n",
        "\n",
        "res_spiral <- dbscan(spiral[,1:2], eps = eps, minPts = minPts)\n",
        "res_spiral\n",
        "\n"
      ],
      "execution_count": null,
      "outputs": []
    },
    {
      "cell_type": "code",
      "metadata": {
        "id": "MDt_pHMXz7eK"
      },
      "source": [
        "res_spiral$cluster\n",
        "\n",
        "spiral2 <- spiral \n",
        "\n",
        "spiral2$cl <- res_spiral$cluster #== 0L\n",
        "\n"
      ],
      "execution_count": null,
      "outputs": []
    },
    {
      "cell_type": "code",
      "metadata": {
        "id": "TAmZ5oGDz-Le"
      },
      "source": [
        "\n",
        "ggplot(spiral2) + \n",
        "  aes(x = x1, y = x2, color = as.factor(cl) ) + \n",
        "  geom_point()"
      ],
      "execution_count": null,
      "outputs": []
    },
    {
      "cell_type": "markdown",
      "metadata": {
        "id": "TJHdtwS90cVu"
      },
      "source": [
        "## OPTICS"
      ]
    },
    {
      "cell_type": "code",
      "metadata": {
        "id": "rFF4zaVH0b6a"
      },
      "source": [
        "set.seed(2)\n",
        "n <- 400\n",
        "\n",
        "x <- cbind(\n",
        "  x = runif(4, 0, 1) + rnorm(n, sd=0.1),\n",
        "  y = runif(4, 0, 1) + rnorm(n, sd=0.1)\n",
        ")\n",
        "\n",
        "plot(x, col=rep(1:4, time = 100))\n"
      ],
      "execution_count": null,
      "outputs": []
    },
    {
      "cell_type": "code",
      "metadata": {
        "id": "pC8VYECD0bvh"
      },
      "source": [
        "\n",
        "### run OPTICS (Note: we use the default eps calculation)\n",
        "res <- optics(x, minPts = 5)\n",
        "res\n",
        "\n",
        "\n"
      ],
      "execution_count": null,
      "outputs": []
    },
    {
      "cell_type": "code",
      "metadata": {
        "id": "QI2hIT4H0x06"
      },
      "source": [
        "### get order\n",
        "res$order\n",
        "\n",
        "### plot produces a reachability plot\n",
        "plot(res)\n",
        "abline(h = .05, col = \"red\", lty = 2)\n",
        "\n",
        "\n"
      ],
      "execution_count": null,
      "outputs": []
    },
    {
      "cell_type": "code",
      "metadata": {
        "id": "gTawEJG600Ck"
      },
      "source": [
        "\n",
        "### extract a DBSCAN clustering by cutting the reachability plot at eps_cl\n",
        "res2 <- extractDBSCAN(res, eps_cl = .054)\n",
        "res2\n",
        "\n"
      ],
      "execution_count": null,
      "outputs": []
    },
    {
      "cell_type": "code",
      "metadata": {
        "id": "igLdLE3W017v"
      },
      "source": [
        "plot(res2)  ## black is noise\n"
      ],
      "execution_count": null,
      "outputs": []
    },
    {
      "cell_type": "code",
      "metadata": {
        "id": "986xt-Zb0_nD"
      },
      "source": [
        "hullplot(x, res2)\n",
        "\n",
        "\n"
      ],
      "execution_count": null,
      "outputs": []
    }
  ]
}